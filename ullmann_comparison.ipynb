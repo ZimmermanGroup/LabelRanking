{
 "cells": [
  {
   "cell_type": "code",
   "execution_count": 29,
   "metadata": {},
   "outputs": [],
   "source": [
    "import numpy as np\n",
    "import pandas as pd\n",
    "import pandas as pd\n",
    "import numpy as np\n",
    "from scipy.stats.mstats import rankdata\n",
    "from collections import Counter\n",
    "from sklearn.metrics import mean_squared_error\n",
    "from sklearn.model_selection import GridSearchCV\n",
    "import seaborn as sns\n",
    "import matplotlib.pyplot as plt\n",
    "from label_ranking import *\n",
    "from rank_aggregation import *\n",
    "from dataloader import *\n",
    "from sklearn.metrics import make_scorer"
   ]
  },
  {
   "cell_type": "code",
   "execution_count": 5,
   "metadata": {},
   "outputs": [],
   "source": [
    "ullmann_dataset = UllmannDataset(False, 4)\n",
    "\n",
    "X_train_desc = ullmann_dataset.X_desc\n",
    "y_train_yield = ullmann_dataset.y_yield\n",
    "y_train_ranking = ullmann_dataset.y_ranking"
   ]
  },
  {
   "cell_type": "code",
   "execution_count": 99,
   "metadata": {},
   "outputs": [],
   "source": [
    "y_p300_yield = np.array([\n",
    "    33, 5, 7, 9, 6, 21, 19, 22, 29, 21, 24, 27, 51, 53, 39, 25, 44, 54\n",
    "])\n",
    "y_p301_yield = np.array([\n",
    "    3, 3, 6, 19, 12, 18, 18, 27, 28, 14, 10, 9, 7, 7, 0, 16, 0, 8\n",
    "])"
   ]
  },
  {
   "cell_type": "code",
   "execution_count": 78,
   "metadata": {},
   "outputs": [
    {
     "data": {
      "image/png": "[encoded data removed]",
      "text/plain": [
       "<Figure size 330x50 with 1 Axes>"
      ]
     },
     "metadata": {},
     "output_type": "display_data"
    }
   ],
   "source": [
    "from matplotlib.colors import ListedColormap\n",
    "\n",
    "fig, ax = plt.subplots(figsize=(3.3, 0.5))\n",
    "sns.heatmap(y_p301_yield.reshape(1,-1), cmap=ListedColormap([\"white\"]), annot=True, cbar=False, annot_kws={\"fontfamily\":\"arial\", \"fontsize\":6}, ax=ax, linecolor=\"black\", linewidths=0.5, square=True)\n",
    "ax.tick_params(left = False, bottom=False) \n",
    "ax.set_yticklabels([\"\"])\n",
    "ax.set_xticklabels([\"\"]*9)\n",
    "\n",
    "plt.savefig(f\"figures/Figure6C_top.svg\", dpi=300, format=\"svg\")"
   ]
  },
  {
   "cell_type": "code",
   "execution_count": 100,
   "metadata": {},
   "outputs": [
    {
     "data": {
      "image/png": "[encoded data removed]",
      "text/plain": [
       "<Figure size 330x50 with 1 Axes>"
      ]
     },
     "metadata": {},
     "output_type": "display_data"
    }
   ],
   "source": [
    "fig, ax = plt.subplots(figsize=(3.3, 0.5))\n",
    "sns.heatmap(y_p300_yield.reshape(1,-1), cmap=ListedColormap([\"white\"]), annot=True, cbar=False, annot_kws={\"fontfamily\":\"arial\", \"fontsize\":6}, ax=ax, linecolor=\"black\", linewidths=0.5, square=True)\n",
    "ax.tick_params(left = False, bottom=False) \n",
    "ax.set_yticklabels([\"\"])\n",
    "ax.set_xticklabels([\"\"]*9)\n",
    "\n",
    "plt.savefig(f\"figures/Figure6C_bottom.svg\", dpi=300, format=\"svg\")"
   ]
  },
  {
   "cell_type": "code",
   "execution_count": 28,
   "metadata": {},
   "outputs": [
    {
     "data": {
      "text/plain": [
       "((384,),\n",
       " array([-0.2913 , -0.2913 , -0.2913 , -0.2913 ,  0.04355], dtype=float16))"
      ]
     },
     "execution_count": 28,
     "metadata": {},
     "output_type": "execute_result"
    }
   ],
   "source": [
    "# Getting reactants of P300 and P301\n",
    "test_ArBrs = pd.read_excel(\"datasets/computed_data.xlsx\", sheet_name=\"test_ArBr_DFT\")\n",
    "test_amines = pd.read_excel(\"datasets/computed_data.xlsx\", sheet_name=\"test_amine_DFT\")\n",
    "\n",
    "X_p301_desc = np.array(\n",
    "    list(test_ArBrs.iloc[0, 2:].to_numpy(dtype=np.float16)) +\\\n",
    "          list(test_amines.iloc[1, 2:].to_numpy(dtype=np.float16))\n",
    ")\n",
    "X_p301_desc.shape, X_p301_desc[:5]"
   ]
  },
  {
   "cell_type": "code",
   "execution_count": 83,
   "metadata": {},
   "outputs": [
    {
     "data": {
      "text/html": [
       "<style>#sk-container-id-2 {color: black;background-color: white;}#sk-container-id-2 pre{padding: 0;}#sk-container-id-2 div.sk-toggleable {background-color: white;}#sk-container-id-2 label.sk-toggleable__label {cursor: pointer;display: block;width: 100%;margin-bottom: 0;padding: 0.3em;box-sizing: border-box;text-align: center;}#sk-container-id-2 label.sk-toggleable__label-arrow:before {content: \"▸\";float: left;margin-right: 0.25em;color: #696969;}#sk-container-id-2 label.sk-toggleable__label-arrow:hover:before {color: black;}#sk-container-id-2 div.sk-estimator:hover label.sk-toggleable__label-arrow:before {color: black;}#sk-container-id-2 div.sk-toggleable__content {max-height: 0;max-width: 0;overflow: hidden;text-align: left;background-color: #f0f8ff;}#sk-container-id-2 div.sk-toggleable__content pre {margin: 0.2em;color: black;border-radius: 0.25em;background-color: #f0f8ff;}#sk-container-id-2 input.sk-toggleable__control:checked~div.sk-toggleable__content {max-height: 200px;max-width: 100%;overflow: auto;}#sk-container-id-2 input.sk-toggleable__control:checked~label.sk-toggleable__label-arrow:before {content: \"▾\";}#sk-container-id-2 div.sk-estimator input.sk-toggleable__control:checked~label.sk-toggleable__label {background-color: #d4ebff;}#sk-container-id-2 div.sk-label input.sk-toggleable__control:checked~label.sk-toggleable__label {background-color: #d4ebff;}#sk-container-id-2 input.sk-hidden--visually {border: 0;clip: rect(1px 1px 1px 1px);clip: rect(1px, 1px, 1px, 1px);height: 1px;margin: -1px;overflow: hidden;padding: 0;position: absolute;width: 1px;}#sk-container-id-2 div.sk-estimator {font-family: monospace;background-color: #f0f8ff;border: 1px dotted black;border-radius: 0.25em;box-sizing: border-box;margin-bottom: 0.5em;}#sk-container-id-2 div.sk-estimator:hover {background-color: #d4ebff;}#sk-container-id-2 div.sk-parallel-item::after {content: \"\";width: 100%;border-bottom: 1px solid gray;flex-grow: 1;}#sk-container-id-2 div.sk-label:hover label.sk-toggleable__label {background-color: #d4ebff;}#sk-container-id-2 div.sk-serial::before {content: \"\";position: absolute;border-left: 1px solid gray;box-sizing: border-box;top: 0;bottom: 0;left: 50%;z-index: 0;}#sk-container-id-2 div.sk-serial {display: flex;flex-direction: column;align-items: center;background-color: white;padding-right: 0.2em;padding-left: 0.2em;position: relative;}#sk-container-id-2 div.sk-item {position: relative;z-index: 1;}#sk-container-id-2 div.sk-parallel {display: flex;align-items: stretch;justify-content: center;background-color: white;position: relative;}#sk-container-id-2 div.sk-item::before, #sk-container-id-2 div.sk-parallel-item::before {content: \"\";position: absolute;border-left: 1px solid gray;box-sizing: border-box;top: 0;bottom: 0;left: 50%;z-index: -1;}#sk-container-id-2 div.sk-parallel-item {display: flex;flex-direction: column;z-index: 1;position: relative;background-color: white;}#sk-container-id-2 div.sk-parallel-item:first-child::after {align-self: flex-end;width: 50%;}#sk-container-id-2 div.sk-parallel-item:last-child::after {align-self: flex-start;width: 50%;}#sk-container-id-2 div.sk-parallel-item:only-child::after {width: 0;}#sk-container-id-2 div.sk-dashed-wrapped {border: 1px dashed gray;margin: 0 0.4em 0.5em 0.4em;box-sizing: border-box;padding-bottom: 0.4em;background-color: white;}#sk-container-id-2 div.sk-label label {font-family: monospace;font-weight: bold;display: inline-block;line-height: 1.2em;}#sk-container-id-2 div.sk-label-container {text-align: center;}#sk-container-id-2 div.sk-container {/* jupyter's `normalize.less` sets `[hidden] { display: none; }` but bootstrap.min.css set `[hidden] { display: none !important; }` so we also need the `!important` here to be able to override the default hidden behavior on the sphinx rendered scikit-learn.org. See: https://github.com/scikit-learn/scikit-learn/issues/21755 */display: inline-block !important;position: relative;}#sk-container-id-2 div.sk-text-repr-fallback {display: none;}</style><div id=\"sk-container-id-2\" class=\"sk-top-container\"><div class=\"sk-text-repr-fallback\"><pre>GridSearchCV(cv=5, estimator=RPC(), n_jobs=-1,\n",
       "             param_grid={&#x27;max_depth&#x27;: [2, 5, 10],\n",
       "                         &#x27;n_estimators&#x27;: [50, 100, 200]},\n",
       "             scoring=make_scorer(kendall_tau))</pre><b>In a Jupyter environment, please rerun this cell to show the HTML representation or trust the notebook. <br />On GitHub, the HTML representation is unable to render, please try loading this page with nbviewer.org.</b></div><div class=\"sk-container\" hidden><div class=\"sk-item sk-dashed-wrapped\"><div class=\"sk-label-container\"><div class=\"sk-label sk-toggleable\"><input class=\"sk-toggleable__control sk-hidden--visually\" id=\"sk-estimator-id-4\" type=\"checkbox\" ><label for=\"sk-estimator-id-4\" class=\"sk-toggleable__label sk-toggleable__label-arrow\">GridSearchCV</label><div class=\"sk-toggleable__content\"><pre>GridSearchCV(cv=5, estimator=RPC(), n_jobs=-1,\n",
       "             param_grid={&#x27;max_depth&#x27;: [2, 5, 10],\n",
       "                         &#x27;n_estimators&#x27;: [50, 100, 200]},\n",
       "             scoring=make_scorer(kendall_tau))</pre></div></div></div><div class=\"sk-parallel\"><div class=\"sk-parallel-item\"><div class=\"sk-item\"><div class=\"sk-label-container\"><div class=\"sk-label sk-toggleable\"><input class=\"sk-toggleable__control sk-hidden--visually\" id=\"sk-estimator-id-5\" type=\"checkbox\" ><label for=\"sk-estimator-id-5\" class=\"sk-toggleable__label sk-toggleable__label-arrow\">estimator: RPC</label><div class=\"sk-toggleable__content\"><pre>RPC()</pre></div></div></div><div class=\"sk-serial\"><div class=\"sk-item\"><div class=\"sk-estimator sk-toggleable\"><input class=\"sk-toggleable__control sk-hidden--visually\" id=\"sk-estimator-id-6\" type=\"checkbox\" ><label for=\"sk-estimator-id-6\" class=\"sk-toggleable__label sk-toggleable__label-arrow\">RPC</label><div class=\"sk-toggleable__content\"><pre>RPC()</pre></div></div></div></div></div></div></div></div></div></div>"
      ],
      "text/plain": [
       "GridSearchCV(cv=5, estimator=RPC(), n_jobs=-1,\n",
       "             param_grid={'max_depth': [2, 5, 10],\n",
       "                         'n_estimators': [50, 100, 200]},\n",
       "             scoring=make_scorer(kendall_tau))"
      ]
     },
     "execution_count": 83,
     "metadata": {},
     "output_type": "execute_result"
    }
   ],
   "source": [
    "def kendall_tau(y_true, y_pred):\n",
    "    kt = kendalltau(y_true, y_pred).statistic\n",
    "    return kt\n",
    "kt_score = make_scorer(kendall_tau, greater_is_better=True)\n",
    "\n",
    "rpc_gcv = GridSearchCV(\n",
    "    RPC(),\n",
    "    param_grid={\"n_estimators\":[50,100,200], \"max_depth\":[2,5,10]},\n",
    "    n_jobs = -1,\n",
    "    scoring=kt_score,\n",
    "    cv=5\n",
    ")\n",
    "rpc_gcv.fit(X_train_desc, y_train_ranking)"
   ]
  },
  {
   "cell_type": "code",
   "execution_count": 84,
   "metadata": {},
   "outputs": [
    {
     "data": {
      "text/plain": [
       "array([27, 14])"
      ]
     },
     "execution_count": 84,
     "metadata": {},
     "output_type": "execute_result"
    }
   ],
   "source": [
    "y_p301_rpc_pred_rank = rpc_gcv.predict(X_p301_desc.reshape(1,-1))\n",
    "y_p301_yield[np.where(y_p301_rpc_pred_rank <= 2)[1]]"
   ]
  },
  {
   "cell_type": "code",
   "execution_count": 55,
   "metadata": {},
   "outputs": [],
   "source": [
    "lrrf_gcv = GridSearchCV(\n",
    "    LabelRankingRandomForest(),\n",
    "    param_grid={\"n_estimators\":[50,100,200], \"max_depth\":[2,5,10]},\n",
    "    n_jobs = -1,\n",
    "    scoring=kt_score,\n",
    "    cv=5\n",
    ")\n",
    "lrrf_gcv.fit(X_train_desc, y_train_ranking)\n",
    "y_p301_lrrf_pred_rank = lrrf_gcv.predict(X_p301_desc.reshape(1,-1))"
   ]
  },
  {
   "cell_type": "code",
   "execution_count": 82,
   "metadata": {},
   "outputs": [
    {
     "data": {
      "text/plain": [
       "array([27,  7])"
      ]
     },
     "execution_count": 82,
     "metadata": {},
     "output_type": "execute_result"
    }
   ],
   "source": [
    "y_p301_yield[np.where(y_p301_lrrf_pred_rank <= 2)[1]]"
   ]
  },
  {
   "cell_type": "code",
   "execution_count": 80,
   "metadata": {},
   "outputs": [
    {
     "data": {
      "text/plain": [
       "array([[16, 17, 18, 13, 15, 10, 14,  2,  7,  4,  3,  5,  1, 11,  6,  8,\n",
       "         9, 12]])"
      ]
     },
     "execution_count": 80,
     "metadata": {},
     "output_type": "execute_result"
    }
   ],
   "source": [
    "y_p301_lrrf_pred_rank"
   ]
  },
  {
   "cell_type": "code",
   "execution_count": 85,
   "metadata": {},
   "outputs": [
    {
     "data": {
      "text/plain": [
       "array([[17, 16, 18, 10, 15, 13, 11,  1,  9,  2,  4,  5,  3,  8,  6,  7,\n",
       "        12, 14]])"
      ]
     },
     "execution_count": 85,
     "metadata": {},
     "output_type": "execute_result"
    }
   ],
   "source": [
    "y_p301_rpc_pred_rank"
   ]
  },
  {
   "cell_type": "code",
   "execution_count": 97,
   "metadata": {},
   "outputs": [
    {
     "data": {
      "text/plain": [
       "array([153,  27,  80, 102,  26, 151, 124,  66, 175, 152,  40, 101, 148,\n",
       "       127,  69])"
      ]
     },
     "execution_count": 97,
     "metadata": {},
     "output_type": "execute_result"
    }
   ],
   "source": [
    "np.argsort(lrrf_gcv.best_estimator_.model.feature_importances_)[-15:]"
   ]
  },
  {
   "cell_type": "code",
   "execution_count": 95,
   "metadata": {},
   "outputs": [
    {
     "data": {
      "text/plain": [
       "Index(['SASA_surface_area(Å²)_Boltz', '%Vbur_Br_4.0Å_min',\n",
       "       'Buried_Sterimol_L_Br_C_5.0(Å)_Boltz',\n",
       "       'Sterimol_L_Br_C(Å)_morfeus_low_E', '%Vbur_Br_2.0Å_min'],\n",
       "      dtype='object')"
      ]
     },
     "execution_count": 95,
     "metadata": {},
     "output_type": "execute_result"
    }
   ],
   "source": [
    "test_ArBrs.columns[[x+2 for x in np.argsort(lrrf_gcv.best_estimator_.model.feature_importances_)[-5:]]]"
   ]
  },
  {
   "cell_type": "code",
   "execution_count": 105,
   "metadata": {},
   "outputs": [
    {
     "data": {
      "text/plain": [
       "Index(['Buried_Sterimol_B5_N_C_5.0(Å)_max', '%Vbur_N_4.0Å_max',\n",
       "       'polar_iso(Debye)_low_E'],\n",
       "      dtype='object')"
      ]
     },
     "execution_count": 105,
     "metadata": {},
     "output_type": "execute_result"
    }
   ],
   "source": [
    "test_amines.columns[[x-178 for x in np.argsort(lrrf_gcv.best_estimator_.model.feature_importances_)[-40:] if x > 180]]"
   ]
  },
  {
   "cell_type": "code",
   "execution_count": 101,
   "metadata": {},
   "outputs": [
    {
     "data": {
      "text/plain": [
       "array([135, 189, 270, 269, 137,  96, 240,  35,  54, 233, 231, 230, 229,\n",
       "       223, 215, 198, 382, 232, 300,  49, 380, 378, 133, 131, 369,  13,\n",
       "       109, 103, 108, 336,  38, 170,  55, 250, 242, 363, 341,  33,  30,\n",
       "       312, 377, 302, 166, 301,  98, 122, 371, 235,  32, 295, 383, 277,\n",
       "       320,  37, 357, 112, 285, 359, 132,  84, 251, 317, 256, 356, 345,\n",
       "       314, 134, 305, 191, 325, 252, 338, 342, 192,  34, 361, 241, 366,\n",
       "       350, 297, 199,  99, 183, 107, 111, 351, 176, 278,  19, 136, 243,\n",
       "       281, 217, 324, 247, 258, 266, 263, 181, 208, 145, 259, 214, 344,\n",
       "       309,  82, 330, 126, 293, 331, 332, 246, 311, 323, 244, 321, 280,\n",
       "       306, 167, 329, 284, 228, 184, 319, 141, 115,  91, 219, 220, 194,\n",
       "       334, 248, 352, 186,  44,  18,  16, 373, 117, 212, 163, 343, 310,\n",
       "       318, 299,  15, 237, 316, 138, 236,  90, 110, 307, 185, 193, 354,\n",
       "        28, 370, 149, 157, 265, 322, 327,   5,  17, 268,  56, 114, 144,\n",
       "       182, 160, 195,   0, 222, 333, 276,  14, 210, 381, 227,   9,  31,\n",
       "       296,  93, 120, 179, 196, 190, 158, 289, 298, 234, 239, 197, 113,\n",
       "        12, 335, 253, 147,  86, 364, 221, 282,  77,  72, 146,  88, 216,\n",
       "       218, 304, 142,  61, 267, 143, 347, 254, 274,   1, 360,  46, 376,\n",
       "       273, 353, 257, 368, 362, 264,  53, 105,  63, 262,  51, 249,   3,\n",
       "       283, 275, 365, 372,  50, 200,  11, 303, 180, 177,  24, 272, 294,\n",
       "       367, 328,  74, 178, 164, 174, 172, 203,   2, 374, 287,  10, 116,\n",
       "         8,  76, 245,   4, 349, 290, 238, 226, 313, 288, 161, 202, 121,\n",
       "        97, 261, 213, 291, 292, 188,   6, 154, 156, 211,  25, 125,  22,\n",
       "       271,  48, 225, 104, 224, 201, 129, 339,   7, 168, 205, 139,  65,\n",
       "       255,  29, 379, 346, 140, 118,  95, 340,  39, 348, 279, 337, 358,\n",
       "        21,  64, 162, 165,  94,  36,  85,  45, 187, 355, 204,  78, 119,\n",
       "       155,  20,  92, 206, 173, 130, 209,  57,  62, 375, 260,  42, 171,\n",
       "        59,  43, 315,  89, 308,  75,  23, 169,  58, 123,  52, 100, 326,\n",
       "       286,  73,  79,  71,  87, 128, 106,  70,  67, 150,  47,  60,  83,\n",
       "        41,  68, 159, 207,  81, 153,  27,  80, 102,  26, 151, 124,  66,\n",
       "       175, 152,  40, 101, 148, 127,  69])"
      ]
     },
     "execution_count": 101,
     "metadata": {},
     "output_type": "execute_result"
    }
   ],
   "source": [
    "np.argsort(lrrf_gcv.best_estimator_.model.feature_importances_)"
   ]
  },
  {
   "cell_type": "code",
   "execution_count": null,
   "metadata": {},
   "outputs": [],
   "source": []
  }
 ],
 "metadata": {
  "kernelspec": {
   "display_name": "label",
   "language": "python",
   "name": "python3"
  },
  "language_info": {
   "codemirror_mode": {
    "name": "ipython",
    "version": 3
   },
   "file_extension": ".py",
   "mimetype": "text/x-python",
   "name": "python",
   "nbconvert_exporter": "python",
   "pygments_lexer": "ipython3",
   "version": "3.10.12"
  }
 },
 "nbformat": 4,
 "nbformat_minor": 2
}
