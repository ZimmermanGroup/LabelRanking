{
 "cells": [
  {
   "cell_type": "code",
   "execution_count": 1,
   "metadata": {},
   "outputs": [],
   "source": [
    "import joblib\n",
    "import numpy as np\n",
    "import pandas as pd\n",
    "import matplotlib.pyplot as plt\n",
    "import seaborn as sns\n",
    "from dataset_utils import *"
   ]
  },
  {
   "cell_type": "code",
   "execution_count": 2,
   "metadata": {},
   "outputs": [],
   "source": [
    "def get_mean_perf_by_model(perf_df, metric):\n",
    "    for model in perf_df[\"model\"].unique():\n",
    "        print(model, round(perf_df[perf_df[\"model\"]==model][metric].mean(), 3))"
   ]
  },
  {
   "cell_type": "markdown",
   "metadata": {},
   "source": [
    "# With full dataset"
   ]
  },
  {
   "cell_type": "markdown",
   "metadata": {},
   "source": [
    "## Amine dataset"
   ]
  },
  {
   "cell_type": "code",
   "execution_count": 3,
   "metadata": {},
   "outputs": [],
   "source": [
    "amine_fp_perfs = pd.DataFrame(joblib.load(\"performance_excels/natureHTE/amine_fp.joblib\"))"
   ]
  },
  {
   "cell_type": "code",
   "execution_count": 4,
   "metadata": {},
   "outputs": [
    {
     "name": "stdout",
     "output_type": "stream",
     "text": [
      "RR\n",
      "baseline 0.718\n",
      "RPC 0.672\n",
      "IBM 0.717\n",
      "IBPL 0.629\n",
      "LRRF 0.715\n",
      "LRT 0.695\n"
     ]
    }
   ],
   "source": [
    "print(\"RR\")\n",
    "get_mean_perf_by_model(amine_fp_perfs, \"reciprocal_rank\")"
   ]
  },
  {
   "cell_type": "code",
   "execution_count": 5,
   "metadata": {},
   "outputs": [
    {
     "name": "stdout",
     "output_type": "stream",
     "text": [
      "rfr 0.71\n"
     ]
    }
   ],
   "source": [
    "rfr_amine_fp_perfs = pd.DataFrame(joblib.load(\"performance_excels/natureHTE/amine_fp_rfr.joblib\"))\n",
    "get_mean_perf_by_model(rfr_amine_fp_perfs, \"reciprocal_rank\")\n"
   ]
  },
  {
   "cell_type": "markdown",
   "metadata": {},
   "source": [
    "## Sulfonamide dataset"
   ]
  },
  {
   "cell_type": "code",
   "execution_count": 2,
   "metadata": {},
   "outputs": [],
   "source": [
    "### Looking at sulfonamide dataset\n",
    "sulfon_random_perfs = pd.DataFrame(joblib.load(\"performance_excels/natureHTE/sulfonamide_random.joblib\"))\n",
    "sulfon_onehot_perfs = pd.DataFrame(joblib.load(\"performance_excels/natureHTE/sulfonamide_onehot.joblib\"))\n",
    "sulfon_fp_perfs = pd.DataFrame(joblib.load(\"performance_excels/natureHTE/sulfonamide_fp.joblib\"))"
   ]
  },
  {
   "cell_type": "code",
   "execution_count": 11,
   "metadata": {},
   "outputs": [
    {
     "name": "stdout",
     "output_type": "stream",
     "text": [
      "RR\n",
      "baseline 0.732\n",
      "RPC 0.729\n",
      "IBM 0.682\n",
      "IBPL 0.688\n",
      "LRRF 0.471\n",
      "LRT 0.773\n",
      "rfr 0.768\n",
      "\n",
      "KT\n",
      "baseline 0.507\n",
      "RPC 0.527\n",
      "IBM 0.466\n",
      "IBPL 0.456\n",
      "LRRF 0.03\n",
      "LRT 0.548\n",
      "rfr 0.521\n"
     ]
    }
   ],
   "source": [
    "print(\"RR\")\n",
    "get_mean_perf_by_model(sulfon_fp_perfs, \"reciprocal_rank\")\n",
    "print()\n",
    "print(\"KT\")\n",
    "get_mean_perf_by_model(sulfon_fp_perfs, \"kendall_tau\")"
   ]
  },
  {
   "cell_type": "code",
   "execution_count": 12,
   "metadata": {},
   "outputs": [
    {
     "name": "stdout",
     "output_type": "stream",
     "text": [
      "RR\n",
      "baseline 0.732\n",
      "RPC 0.732\n",
      "IBM 0.591\n",
      "IBPL 0.591\n",
      "LRRF 0.716\n",
      "LRT 0.732\n",
      "rfr 0.682\n",
      "\n",
      "KT\n",
      "baseline 0.507\n",
      "RPC 0.53\n",
      "IBM 0.392\n",
      "IBPL 0.392\n",
      "LRRF 0.476\n",
      "LRT 0.509\n",
      "rfr 0.479\n"
     ]
    }
   ],
   "source": [
    "print(\"RR\")\n",
    "get_mean_perf_by_model(sulfon_onehot_perfs, \"reciprocal_rank\")\n",
    "print()\n",
    "print(\"KT\")\n",
    "get_mean_perf_by_model(sulfon_onehot_perfs, \"kendall_tau\")"
   ]
  },
  {
   "cell_type": "code",
   "execution_count": 13,
   "metadata": {},
   "outputs": [
    {
     "name": "stdout",
     "output_type": "stream",
     "text": [
      "RR\n",
      "baseline 0.732\n",
      "RPC 0.716\n",
      "IBM 0.664\n",
      "IBPL 0.69\n",
      "LRRF 0.375\n",
      "LRT 0.552\n",
      "rfr 0.755\n",
      "\n",
      "KT\n",
      "baseline 0.507\n",
      "RPC 0.467\n",
      "IBM 0.342\n",
      "IBPL 0.311\n",
      "LRRF -0.117\n",
      "LRT 0.267\n",
      "rfr 0.531\n"
     ]
    }
   ],
   "source": [
    "print(\"RR\")\n",
    "get_mean_perf_by_model(sulfon_random_perfs, \"reciprocal_rank\")\n",
    "print()\n",
    "print(\"KT\")\n",
    "get_mean_perf_by_model(sulfon_random_perfs, \"kendall_tau\")"
   ]
  },
  {
   "cell_type": "markdown",
   "metadata": {},
   "source": [
    "## Amide dataset"
   ]
  },
  {
   "cell_type": "code",
   "execution_count": 14,
   "metadata": {},
   "outputs": [],
   "source": [
    "### Looking at sulfonamide dataset\n",
    "amide_random_perfs = pd.DataFrame(joblib.load(\"performance_excels/natureHTE/amide_random.joblib\"))\n",
    "amide_onehot_perfs = pd.DataFrame(joblib.load(\"performance_excels/natureHTE/amide_onehot.joblib\"))\n",
    "amide_fp_perfs = pd.DataFrame(joblib.load(\"performance_excels/natureHTE/amide_fp.joblib\"))"
   ]
  },
  {
   "cell_type": "code",
   "execution_count": 15,
   "metadata": {},
   "outputs": [
    {
     "name": "stdout",
     "output_type": "stream",
     "text": [
      "RR\n",
      "baseline 0.631\n",
      "RPC 0.616\n",
      "IBM 0.482\n",
      "IBPL 0.5\n",
      "LRRF 0.479\n",
      "LRT 0.601\n",
      "rfr 0.669\n",
      "\n",
      "KT\n",
      "baseline 0.319\n",
      "RPC 0.368\n",
      "IBM 0.228\n",
      "IBPL 0.272\n",
      "LRRF -0.069\n",
      "LRT 0.198\n",
      "rfr 0.375\n"
     ]
    }
   ],
   "source": [
    "print(\"RR\")\n",
    "get_mean_perf_by_model(amide_fp_perfs, \"reciprocal_rank\")\n",
    "print()\n",
    "print(\"KT\")\n",
    "get_mean_perf_by_model(amide_fp_perfs, \"kendall_tau\")"
   ]
  },
  {
   "cell_type": "code",
   "execution_count": 16,
   "metadata": {},
   "outputs": [
    {
     "name": "stdout",
     "output_type": "stream",
     "text": [
      "RR\n",
      "baseline 0.631\n",
      "RPC 0.631\n",
      "IBM 0.455\n",
      "IBPL 0.455\n",
      "LRRF 0.586\n",
      "LRT 0.417\n",
      "rfr 0.521\n",
      "\n",
      "KT\n",
      "baseline 0.319\n",
      "RPC 0.164\n",
      "IBM 0.204\n",
      "IBPL 0.204\n",
      "LRRF 0.2\n",
      "LRT 0.081\n",
      "rfr 0.262\n"
     ]
    }
   ],
   "source": [
    "print(\"RR\")\n",
    "get_mean_perf_by_model(amide_onehot_perfs, \"reciprocal_rank\")\n",
    "print()\n",
    "print(\"KT\")\n",
    "get_mean_perf_by_model(amide_onehot_perfs, \"kendall_tau\")"
   ]
  },
  {
   "cell_type": "code",
   "execution_count": 17,
   "metadata": {},
   "outputs": [
    {
     "name": "stdout",
     "output_type": "stream",
     "text": [
      "RR\n",
      "baseline 0.631\n",
      "RPC 0.613\n",
      "IBM 0.533\n",
      "IBPL 0.613\n",
      "LRRF 0.58\n",
      "LRT 0.381\n",
      "rfr 0.571\n",
      "\n",
      "KT\n",
      "baseline 0.319\n",
      "RPC 0.319\n",
      "IBM 0.152\n",
      "IBPL 0.224\n",
      "LRRF 0.064\n",
      "LRT -0.13\n",
      "rfr 0.262\n"
     ]
    }
   ],
   "source": [
    "print(\"RR\")\n",
    "get_mean_perf_by_model(amide_random_perfs, \"reciprocal_rank\")\n",
    "print()\n",
    "print(\"KT\")\n",
    "get_mean_perf_by_model(amide_random_perfs, \"kendall_tau\")"
   ]
  },
  {
   "cell_type": "markdown",
   "metadata": {},
   "source": [
    "# With balanced dataset"
   ]
  },
  {
   "cell_type": "code",
   "execution_count": 13,
   "metadata": {},
   "outputs": [],
   "source": [
    "balanced_sulfon_perf = pd.DataFrame(joblib.load(\"performance_excels/natureHTE/balanced_sulfonamide_fp.joblib\"))"
   ]
  },
  {
   "cell_type": "code",
   "execution_count": 16,
   "metadata": {},
   "outputs": [
    {
     "name": "stdout",
     "output_type": "stream",
     "text": [
      "RR\n",
      "baseline 0.645\n",
      "RPC 0.614\n",
      "IBM 0.645\n",
      "IBPL 0.645\n",
      "LRRF 0.474\n",
      "LRT 0.588\n",
      "rfr 0.632\n",
      "MCLR 0.588\n",
      "MCSVM 0.561\n",
      "MCRFC 0.732\n",
      "\n",
      "KT\n",
      "baseline 0.363\n",
      "RPC 0.328\n",
      "IBM 0.437\n",
      "IBPL 0.348\n",
      "LRRF -0.093\n",
      "LRT 0.258\n",
      "rfr 0.404\n",
      "MCLR -0.402\n",
      "MCSVM -0.242\n",
      "MCRFC -0.472\n"
     ]
    }
   ],
   "source": [
    "print(\"RR\")\n",
    "get_mean_perf_by_model(balanced_sulfon_perf, \"reciprocal_rank\")\n",
    "print()\n",
    "print(\"KT\")\n",
    "get_mean_perf_by_model(balanced_sulfon_perf, \"kendall_tau\")"
   ]
  },
  {
   "cell_type": "code",
   "execution_count": 17,
   "metadata": {},
   "outputs": [
    {
     "name": "stdout",
     "output_type": "stream",
     "text": [
      "RR\n",
      "baseline 0.456\n",
      "RPC 0.535\n",
      "IBM 0.544\n",
      "IBPL 0.544\n",
      "LRRF 0.531\n",
      "LRT 0.386\n",
      "rfr 0.548\n",
      "MCLR 0.5\n",
      "MCSVM 0.469\n",
      "MCRFC 0.469\n",
      "\n",
      "KT\n",
      "baseline 0.087\n",
      "RPC 0.317\n",
      "IBM 0.231\n",
      "IBPL 0.249\n",
      "LRRF 0.11\n",
      "LRT -0.13\n",
      "rfr 0.228\n",
      "MCLR -0.07\n",
      "MCSVM 0.433\n",
      "MCRFC -0.055\n"
     ]
    }
   ],
   "source": [
    "balanced_amide_perf = pd.DataFrame(joblib.load(\"performance_excels/natureHTE/balanced_amide_fp.joblib\"))\n",
    "print(\"RR\")\n",
    "get_mean_perf_by_model(balanced_amide_perf, \"reciprocal_rank\")\n",
    "print()\n",
    "print(\"KT\")\n",
    "get_mean_perf_by_model(balanced_amide_perf, \"kendall_tau\")"
   ]
  },
  {
   "cell_type": "code",
   "execution_count": 19,
   "metadata": {},
   "outputs": [
    {
     "name": "stdout",
     "output_type": "stream",
     "text": [
      "RR\n",
      "baseline 0.597\n",
      "RPC 0.571\n",
      "IBM 0.546\n",
      "IBPL 0.539\n",
      "LRRF 0.617\n",
      "LRT 0.625\n",
      "rfr 0.63\n",
      "MCLR 0.611\n",
      "MCSVM 0.62\n",
      "MCRFC 0.724\n",
      "\n",
      "KT\n",
      "baseline -0.026\n",
      "RPC 0.128\n",
      "IBM 0.174\n",
      "IBPL 0.141\n",
      "LRRF 0.162\n",
      "LRT 0.247\n",
      "rfr 0.204\n",
      "MCLR -0.129\n",
      "MCSVM -0.168\n",
      "MCRFC -0.214\n"
     ]
    }
   ],
   "source": [
    "balanced_amine_perf = pd.DataFrame(joblib.load(\"performance_excels/natureHTE/balanced_amine_fp.joblib\"))\n",
    "print(\"RR\")\n",
    "get_mean_perf_by_model(balanced_amine_perf, \"reciprocal_rank\")\n",
    "print()\n",
    "print(\"KT\")\n",
    "get_mean_perf_by_model(balanced_amine_perf, \"kendall_tau\")"
   ]
  },
  {
   "cell_type": "markdown",
   "metadata": {},
   "source": [
    "# Dataset structure analysis"
   ]
  },
  {
   "cell_type": "code",
   "execution_count": 3,
   "metadata": {},
   "outputs": [],
   "source": [
    "RAW_DATA = pd.read_excel(\n",
    "    \"datasets/natureHTE/natureHTE.xlsx\",\n",
    "    sheet_name=\"Report - Variable Conditions\",\n",
    "    usecols=[\"BB SMILES\", \"Chemistry\", \"Catalyst\", \"Base\", \"Rel. % Conv.\"],\n",
    ")\n",
    "\n",
    "AMINE_DATA = RAW_DATA[RAW_DATA[\"Chemistry\"] == \"Amine\"]\n",
    "SULFON_DATA = RAW_DATA[RAW_DATA[\"Chemistry\"] == \"Sulfonamide\"].reset_index()\n",
    "AMIDE_DATA = RAW_DATA[RAW_DATA[\"Chemistry\"] == \"Amide\"].reset_index()"
   ]
  },
  {
   "cell_type": "code",
   "execution_count": 18,
   "metadata": {},
   "outputs": [
    {
     "name": "stdout",
     "output_type": "stream",
     "text": [
      "[[1. 0. 0.]\n",
      " [0. 0. 0.]\n",
      " [0. 1. 0.]\n",
      " [0. 0. 1.]]\n"
     ]
    }
   ],
   "source": [
    "a = np.zeros((4,3))\n",
    "a[[0,2,3],[0,1,2]] = 1\n",
    "print(a)"
   ]
  },
  {
   "cell_type": "code",
   "execution_count": 11,
   "metadata": {},
   "outputs": [
    {
     "data": {
      "text/plain": [
       "array(['c1cn[nH]c1', 'C1CCNC1', 'Nc1ccon1', 'Nc1nc[nH]n1', 'C1CCNCC1',\n",
       "       'C1COCCN1', 'Nc1ccccn1', 'Nc1cccnc1', 'Nc1ncncn1', 'Cn1nccc1N',\n",
       "       'Cc1onc(N)c1', 'Cc1coc(N)n1', 'Nc1nccs1', 'Nc1nncs1', 'Cc1ccccc1N',\n",
       "       'NCc1ccccc1', 'Nc1n[nH]cc1C#N', 'Cc1ccc(N)nc1', 'Cc1ccnc(N)c1',\n",
       "       'Cc1ccnc(N)n1', 'Cc1csc(N)n1', 'CCN1CCNCC1', 'Cc1nnc(N)s1',\n",
       "       'CC1CNCC(C)O1', 'Nc1cccc(c1)C#N', 'Nc1ccc(cc1)C#N',\n",
       "       'c1ccc2[nH]ncc2c1', 'C1NCc2ccccc12', 'C1NCc2cnccc12',\n",
       "       'Cc1ccc(N)cc1C', 'CNCc1ccccc1', 'Cc1cc(C)nc(N)c1', 'COc1ccccc1N',\n",
       "       'Nc1sccc1C#N', 'COc1ncccc1N', 'COc1cc(N)ncn1', 'Cc1ccc(N)cc1F',\n",
       "       'CNc1ccc(F)cc1', 'CNCc1occc1', 'CC(C)N1CCNCC1', 'CCc1nnc(N)s1',\n",
       "       'Nc1ccc(F)c(F)c1', 'Nc1ccc2[nH]ccc2c1', 'Nc1nc2ccccc2[nH]1',\n",
       "       'Nc1n[nH]c2ccccc12', 'Nc1cccc2CCCc12', 'NC1Cc2ccccc2C1',\n",
       "       'C1Cc2ccccc2CN1', 'Nc1oc2ccccc2n1', 'Nc1noc2ccccc12',\n",
       "       'Nc1ccc2OCCc2c1', 'Cc1ncc2CNCc2n1', 'CNCCc1ccccc1',\n",
       "       'CN(C)c1ccc(N)cc1', 'Nc1ccc2OCOc2c1', 'COc1ccc(C)c(N)c1',\n",
       "       'CNc1ccc(OC)cc1', 'CNCc1ccccc1F', 'CNCc1cccc(F)c1',\n",
       "       'Cc1nc2CNCc2s1', 'CNc1ccc(Cl)cc1', 'COc1ccc(N)cc1F',\n",
       "       'N#CCCNc1ccccc1', 'Nc1cc(F)c(F)c(F)c1', 'Nc1cccc2CCCCc12',\n",
       "       'Nc1ccc2CCCCc2c1', 'Nc1ccc2OCCOc2c1', 'CNCc1ccc(OC)cc1',\n",
       "       'COc1cc(N)cc(OC)c1', 'Cn1nc(cc1N)C(C)(C)C', 'Nc1nc2CCCCc2s1',\n",
       "       'COc1ccc(N)cc1Cl', 'Nc1cc(Cl)cc(Cl)c1', 'Nc1ccc(cc1)C(F)(F)F',\n",
       "       'Nc1cnccc1C(F)(F)F', 'C1CN(CCN1)c2ccccc2', 'C1CN(CCN1)c2ccccn2',\n",
       "       'C1CCN(C1)C2CCNCC2', 'Nc1nnc(s1)C(F)(F)F', 'Fc1ccc(F)c2CNCCc12',\n",
       "       'CS(=O)(=O)c1ccc(N)cc1', 'CNc1ccc(cc1)C(F)(F)F',\n",
       "       'Cc1ccc(cc1)N2CCNCC2', 'Nc1nsc(n1)c2ccccc2',\n",
       "       'CC1CCc2c(C1)sc(N)c2C#N', 'Nc1ccccc1N2CCOCC2',\n",
       "       'COc1ccc2nc(N)sc2c1', 'O=C(N1CCNCC1)c2occc2',\n",
       "       'Fc1ccc(cc1)N2CCNCC2', 'Nc1nc2ccc(Cl)cc2s1',\n",
       "       'COc1ccc(cc1)c2cc(N)[nH]n2', 'CNCc1cccnc1N2CCCC2',\n",
       "       'COc1cccc(c1)N2CCNCC2', 'Nc1ccc(cc1)n2cncn2',\n",
       "       'O=C(CN1CCNCC1)N2CCCC2', 'FC(F)(F)c1cccc(n1)N2CCNCC2'],\n",
       "      dtype=object)"
      ]
     },
     "execution_count": 11,
     "metadata": {},
     "output_type": "execute_result"
    }
   ],
   "source": [
    "AMINE_DATA[\"BB SMILES\"].unique()"
   ]
  },
  {
   "cell_type": "markdown",
   "metadata": {},
   "source": [
    "### Looking at which substrates to remove in each class"
   ]
  },
  {
   "cell_type": "code",
   "execution_count": 12,
   "metadata": {},
   "outputs": [
    {
     "name": "stdout",
     "output_type": "stream",
     "text": [
      "51\n",
      "12\n",
      "16\n",
      "15\n"
     ]
    }
   ],
   "source": [
    "amine_yields = AMINE_DATA[\"Rel. % Conv.\"].to_numpy().reshape((96,4))\n",
    "amine_rank = yield_to_ranking(amine_yields)\n",
    "best_conds = np.where(amine_rank==1)[1]\n",
    "for i in range(4):\n",
    "    print(np.sum(best_conds==i))\n",
    "\n",
    "amine_yields[np.argwhere(np.isnan(amine_yields))] = 0\n",
    "\n",
    "amine_easiest_cases = {}\n",
    "amines_to_remove = []\n",
    "for i, row in enumerate(amine_yields) :\n",
    "    if np.sum(row) == 0 :\n",
    "        amines_to_remove.append(i)\n",
    "    else:\n",
    "        if np.argmax(row) == 0 :\n",
    "            two_best = np.argpartition(row, kth=2)[:2]\n",
    "            amine_easiest_cases.update({\n",
    "                i:row[two_best[0]] - row[two_best[1]]\n",
    "            })\n",
    "\n",
    "sorted_easiest_cases = sorted(amine_easiest_cases.items(), key=lambda x:x[1])\n",
    "more_amines_to_remove = [sorted_easiest_cases[i][0] for i in range(35)]\n",
    "amines_to_remove += more_amines_to_remove # still 54 left"
   ]
  },
  {
   "cell_type": "code",
   "execution_count": 19,
   "metadata": {},
   "outputs": [
    {
     "data": {
      "text/plain": [
       "[(32, -69.0),\n",
       " (66, -48.0),\n",
       " (40, -47.0),\n",
       " (45, -45.0),\n",
       " (41, -39.0),\n",
       " (44, -39.0),\n",
       " (34, -38.0),\n",
       " (7, -29.0),\n",
       " (13, -26.0),\n",
       " (72, -25.0),\n",
       " (82, -25.0),\n",
       " (73, -24.0),\n",
       " (89, -24.0),\n",
       " (3, -22.0),\n",
       " (86, -21.0),\n",
       " (74, -20.0),\n",
       " (55, -19.0),\n",
       " (93, -19.0),\n",
       " (12, -18.0),\n",
       " (18, -16.0),\n",
       " (64, -16.0),\n",
       " (76, -16.0),\n",
       " (85, -15.0),\n",
       " (69, -14.0),\n",
       " (19, -13.0),\n",
       " (54, -13.0),\n",
       " (6, -12.0),\n",
       " (88, -11.0),\n",
       " (14, -10.0),\n",
       " (92, -9.0),\n",
       " (38, -8.0),\n",
       " (5, -7.0),\n",
       " (80, -6.0),\n",
       " (10, -5.0),\n",
       " (20, -5.0),\n",
       " (57, -5.0),\n",
       " (79, -5.0),\n",
       " (23, -3.0),\n",
       " (91, -3.0),\n",
       " (95, -3.0),\n",
       " (27, -2.0),\n",
       " (35, -2.0),\n",
       " (59, -2.0),\n",
       " (83, -2.0),\n",
       " (87, -2.0),\n",
       " (8, -1.0),\n",
       " (17, -1.0),\n",
       " (30, -1.0),\n",
       " (67, -1.0),\n",
       " (70, -1.0),\n",
       " (4, 0.0),\n",
       " (9, 0.0),\n",
       " (28, 0.0),\n",
       " (51, 0.0),\n",
       " (60, 0.0),\n",
       " (62, 0.0)]"
      ]
     },
     "execution_count": 19,
     "metadata": {},
     "output_type": "execute_result"
    }
   ],
   "source": [
    "sorted_easiest_cases"
   ]
  },
  {
   "cell_type": "code",
   "execution_count": 10,
   "metadata": {},
   "outputs": [
    {
     "name": "stdout",
     "output_type": "stream",
     "text": [
      "3\n",
      "9\n",
      "4\n",
      "12\n",
      "13\n"
     ]
    }
   ],
   "source": [
    "amide_yields = AMIDE_DATA[\"Rel. % Conv.\"].to_numpy().reshape((32,4))\n",
    "amide_yields[np.argwhere(np.isnan(amide_yields))] = 0\n",
    "amide_rank = yield_to_ranking(amide_yields)\n",
    "best_conds = np.where(amide_rank==1)[1]\n",
    "for i in range(4):\n",
    "    print(np.sum(best_conds==i))\n",
    "# remove 3 and 6 examples from labels 1 and 3, respectively.\n",
    "amide_label1 = {}\n",
    "amide_label3 = {}\n",
    "amides_to_remove = []\n",
    "for i, row in enumerate(amide_yields) :\n",
    "    if np.sum(row) == 0 :\n",
    "        amides_to_remove.append(i)\n",
    "    else :\n",
    "        if np.argmax(row) == 1 :\n",
    "            two_best = np.argpartition(row, kth=2)[:2]\n",
    "            amide_label1.update({\n",
    "                i:row[two_best[0]] - row[two_best[1]]\n",
    "            })\n",
    "        elif np.argmax(row) == 3 :\n",
    "            two_best = np.argpartition(row, kth=2)[:2]\n",
    "            amide_label3.update({\n",
    "                i:row[two_best[0]] - row[two_best[1]]\n",
    "            })\n",
    "\n",
    "sorted_amide_label1 = sorted(amide_label1.items(), key=lambda x:x[1])\n",
    "sorted_amide_label3 = sorted(amide_label3.items(), key=lambda x:x[1])\n",
    "more_amides_to_remove = [sorted_amide_label1[i][0] for i in range(3)] + [sorted_amide_label3[i][0] for i in range(6)]\n",
    "amides_to_remove += more_amides_to_remove\n",
    "\n",
    "print(len(amides_to_remove))"
   ]
  },
  {
   "cell_type": "code",
   "execution_count": 11,
   "metadata": {},
   "outputs": [
    {
     "name": "stdout",
     "output_type": "stream",
     "text": [
      "10\n",
      "1\n",
      "17\n",
      "4\n",
      "\n",
      "13\n"
     ]
    }
   ],
   "source": [
    "sulfon_yields = SULFON_DATA[\"Rel. % Conv.\"].to_numpy().reshape((32,4))\n",
    "sulfon_yields[np.argwhere(np.isnan(sulfon_yields))] = 0\n",
    "sulfon_rank = yield_to_ranking(sulfon_yields)\n",
    "best_conds = np.where(sulfon_rank==1)[1]\n",
    "for i in range(4):\n",
    "    print(np.sum(best_conds==i))\n",
    "# remove 3 and 6 examples from labels 1 and 3, respectively.\n",
    "sulfon_label0 = {}\n",
    "sulfon_label2 = {}\n",
    "sulfon_to_remove = []\n",
    "for i, row in enumerate(sulfon_yields) :\n",
    "    if np.sum(row) == 0 :\n",
    "        sulfon_to_remove.append(i)\n",
    "    else :\n",
    "        if np.argmax(row) == 0 :\n",
    "            two_best = np.argpartition(row, kth=2)[:2]\n",
    "            sulfon_label0.update({\n",
    "                i:row[two_best[0]] - row[two_best[1]]\n",
    "            })\n",
    "        elif np.argmax(row) == 2 :\n",
    "            two_best = np.argpartition(row, kth=2)[:2]\n",
    "            sulfon_label2.update({\n",
    "                i:row[two_best[0]] - row[two_best[1]]\n",
    "            })\n",
    "\n",
    "sorted_sulfon_label0 = sorted(sulfon_label0.items(), key=lambda x:x[1])\n",
    "sorted_sulfon_label2 = sorted(sulfon_label2.items(), key=lambda x:x[1])\n",
    "more_sulfon_to_remove = [sorted_sulfon_label0[i][0] for i in range(3)] + [sorted_sulfon_label2[i][0] for i in range(10)]\n",
    "sulfon_to_remove += more_sulfon_to_remove\n",
    "print()\n",
    "print(len(sulfon_to_remove))"
   ]
  },
  {
   "cell_type": "code",
   "execution_count": 12,
   "metadata": {},
   "outputs": [
    {
     "data": {
      "text/plain": [
       "['datasets/natureHTE/nature_sulfon_inds_to_remove.joblib']"
      ]
     },
     "execution_count": 12,
     "metadata": {},
     "output_type": "execute_result"
    }
   ],
   "source": [
    "joblib.dump(amines_to_remove, \"datasets/natureHTE/nature_amine_inds_to_remove.joblib\")\n",
    "joblib.dump(amides_to_remove, \"datasets/natureHTE/nature_amide_inds_to_remove.joblib\")\n",
    "joblib.dump(sulfon_to_remove, \"datasets/natureHTE/nature_sulfon_inds_to_remove.joblib\")"
   ]
  },
  {
   "cell_type": "code",
   "execution_count": null,
   "metadata": {},
   "outputs": [],
   "source": []
  }
 ],
 "metadata": {
  "kernelspec": {
   "display_name": "label",
   "language": "python",
   "name": "python3"
  },
  "language_info": {
   "codemirror_mode": {
    "name": "ipython",
    "version": 3
   },
   "file_extension": ".py",
   "mimetype": "text/x-python",
   "name": "python",
   "nbconvert_exporter": "python",
   "pygments_lexer": "ipython3",
   "version": "3.10.12"
  },
  "orig_nbformat": 4
 },
 "nbformat": 4,
 "nbformat_minor": 2
}
