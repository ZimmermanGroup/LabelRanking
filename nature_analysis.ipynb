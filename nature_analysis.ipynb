{
 "cells": [
  {
   "cell_type": "code",
   "execution_count": 1,
   "metadata": {},
   "outputs": [],
   "source": [
    "import joblib\n",
    "import numpy as np\n",
    "import pandas as pd\n",
    "import matplotlib.pyplot as plt\n",
    "import seaborn as sns"
   ]
  },
  {
   "cell_type": "code",
   "execution_count": 2,
   "metadata": {},
   "outputs": [],
   "source": [
    "def get_mean_perf_by_model(perf_df, metric):\n",
    "    for model in perf_df[\"model\"].unique():\n",
    "        print(model, round(perf_df[perf_df[\"model\"]==model][metric].mean(), 3))"
   ]
  },
  {
   "cell_type": "markdown",
   "metadata": {},
   "source": [
    "# Amine dataset"
   ]
  },
  {
   "cell_type": "code",
   "execution_count": 3,
   "metadata": {},
   "outputs": [],
   "source": [
    "amine_fp_perfs = pd.DataFrame(joblib.load(\"performance_excels/natureHTE/amine_fp.joblib\"))"
   ]
  },
  {
   "cell_type": "code",
   "execution_count": 4,
   "metadata": {},
   "outputs": [
    {
     "name": "stdout",
     "output_type": "stream",
     "text": [
      "RR\n",
      "baseline 0.718\n",
      "RPC 0.672\n",
      "IBM 0.717\n",
      "IBPL 0.629\n",
      "LRRF 0.715\n",
      "LRT 0.695\n"
     ]
    }
   ],
   "source": [
    "print(\"RR\")\n",
    "get_mean_perf_by_model(amine_fp_perfs, \"reciprocal_rank\")"
   ]
  },
  {
   "cell_type": "code",
   "execution_count": 5,
   "metadata": {},
   "outputs": [
    {
     "name": "stdout",
     "output_type": "stream",
     "text": [
      "rfr 0.71\n"
     ]
    }
   ],
   "source": [
    "rfr_amine_fp_perfs = pd.DataFrame(joblib.load(\"performance_excels/natureHTE/amine_fp_rfr.joblib\"))\n",
    "get_mean_perf_by_model(rfr_amine_fp_perfs, \"reciprocal_rank\")\n"
   ]
  },
  {
   "cell_type": "markdown",
   "metadata": {},
   "source": [
    "# Sulfonamide dataset"
   ]
  },
  {
   "cell_type": "code",
   "execution_count": 2,
   "metadata": {},
   "outputs": [],
   "source": [
    "### Looking at sulfonamide dataset\n",
    "sulfon_random_perfs = pd.DataFrame(joblib.load(\"performance_excels/natureHTE/sulfonamide_random.joblib\"))\n",
    "sulfon_onehot_perfs = pd.DataFrame(joblib.load(\"performance_excels/natureHTE/sulfonamide_onehot.joblib\"))\n",
    "sulfon_fp_perfs = pd.DataFrame(joblib.load(\"performance_excels/natureHTE/sulfonamide_fp.joblib\"))"
   ]
  },
  {
   "cell_type": "code",
   "execution_count": 11,
   "metadata": {},
   "outputs": [
    {
     "name": "stdout",
     "output_type": "stream",
     "text": [
      "RR\n",
      "baseline 0.732\n",
      "RPC 0.729\n",
      "IBM 0.682\n",
      "IBPL 0.688\n",
      "LRRF 0.471\n",
      "LRT 0.773\n",
      "rfr 0.768\n",
      "\n",
      "KT\n",
      "baseline 0.507\n",
      "RPC 0.527\n",
      "IBM 0.466\n",
      "IBPL 0.456\n",
      "LRRF 0.03\n",
      "LRT 0.548\n",
      "rfr 0.521\n"
     ]
    }
   ],
   "source": [
    "print(\"RR\")\n",
    "get_mean_perf_by_model(sulfon_fp_perfs, \"reciprocal_rank\")\n",
    "print()\n",
    "print(\"KT\")\n",
    "get_mean_perf_by_model(sulfon_fp_perfs, \"kendall_tau\")"
   ]
  },
  {
   "cell_type": "code",
   "execution_count": 12,
   "metadata": {},
   "outputs": [
    {
     "name": "stdout",
     "output_type": "stream",
     "text": [
      "RR\n",
      "baseline 0.732\n",
      "RPC 0.732\n",
      "IBM 0.591\n",
      "IBPL 0.591\n",
      "LRRF 0.716\n",
      "LRT 0.732\n",
      "rfr 0.682\n",
      "\n",
      "KT\n",
      "baseline 0.507\n",
      "RPC 0.53\n",
      "IBM 0.392\n",
      "IBPL 0.392\n",
      "LRRF 0.476\n",
      "LRT 0.509\n",
      "rfr 0.479\n"
     ]
    }
   ],
   "source": [
    "print(\"RR\")\n",
    "get_mean_perf_by_model(sulfon_onehot_perfs, \"reciprocal_rank\")\n",
    "print()\n",
    "print(\"KT\")\n",
    "get_mean_perf_by_model(sulfon_onehot_perfs, \"kendall_tau\")"
   ]
  },
  {
   "cell_type": "code",
   "execution_count": 13,
   "metadata": {},
   "outputs": [
    {
     "name": "stdout",
     "output_type": "stream",
     "text": [
      "RR\n",
      "baseline 0.732\n",
      "RPC 0.716\n",
      "IBM 0.664\n",
      "IBPL 0.69\n",
      "LRRF 0.375\n",
      "LRT 0.552\n",
      "rfr 0.755\n",
      "\n",
      "KT\n",
      "baseline 0.507\n",
      "RPC 0.467\n",
      "IBM 0.342\n",
      "IBPL 0.311\n",
      "LRRF -0.117\n",
      "LRT 0.267\n",
      "rfr 0.531\n"
     ]
    }
   ],
   "source": [
    "print(\"RR\")\n",
    "get_mean_perf_by_model(sulfon_random_perfs, \"reciprocal_rank\")\n",
    "print()\n",
    "print(\"KT\")\n",
    "get_mean_perf_by_model(sulfon_random_perfs, \"kendall_tau\")"
   ]
  },
  {
   "cell_type": "markdown",
   "metadata": {},
   "source": [
    "# Amide dataset"
   ]
  },
  {
   "cell_type": "code",
   "execution_count": 14,
   "metadata": {},
   "outputs": [],
   "source": [
    "### Looking at sulfonamide dataset\n",
    "amide_random_perfs = pd.DataFrame(joblib.load(\"performance_excels/natureHTE/amide_random.joblib\"))\n",
    "amide_onehot_perfs = pd.DataFrame(joblib.load(\"performance_excels/natureHTE/amide_onehot.joblib\"))\n",
    "amide_fp_perfs = pd.DataFrame(joblib.load(\"performance_excels/natureHTE/amide_fp.joblib\"))"
   ]
  },
  {
   "cell_type": "code",
   "execution_count": 15,
   "metadata": {},
   "outputs": [
    {
     "name": "stdout",
     "output_type": "stream",
     "text": [
      "RR\n",
      "baseline 0.631\n",
      "RPC 0.616\n",
      "IBM 0.482\n",
      "IBPL 0.5\n",
      "LRRF 0.479\n",
      "LRT 0.601\n",
      "rfr 0.669\n",
      "\n",
      "KT\n",
      "baseline 0.319\n",
      "RPC 0.368\n",
      "IBM 0.228\n",
      "IBPL 0.272\n",
      "LRRF -0.069\n",
      "LRT 0.198\n",
      "rfr 0.375\n"
     ]
    }
   ],
   "source": [
    "print(\"RR\")\n",
    "get_mean_perf_by_model(amide_fp_perfs, \"reciprocal_rank\")\n",
    "print()\n",
    "print(\"KT\")\n",
    "get_mean_perf_by_model(amide_fp_perfs, \"kendall_tau\")"
   ]
  },
  {
   "cell_type": "code",
   "execution_count": 16,
   "metadata": {},
   "outputs": [
    {
     "name": "stdout",
     "output_type": "stream",
     "text": [
      "RR\n",
      "baseline 0.631\n",
      "RPC 0.631\n",
      "IBM 0.455\n",
      "IBPL 0.455\n",
      "LRRF 0.586\n",
      "LRT 0.417\n",
      "rfr 0.521\n",
      "\n",
      "KT\n",
      "baseline 0.319\n",
      "RPC 0.164\n",
      "IBM 0.204\n",
      "IBPL 0.204\n",
      "LRRF 0.2\n",
      "LRT 0.081\n",
      "rfr 0.262\n"
     ]
    }
   ],
   "source": [
    "print(\"RR\")\n",
    "get_mean_perf_by_model(amide_onehot_perfs, \"reciprocal_rank\")\n",
    "print()\n",
    "print(\"KT\")\n",
    "get_mean_perf_by_model(amide_onehot_perfs, \"kendall_tau\")"
   ]
  },
  {
   "cell_type": "code",
   "execution_count": 17,
   "metadata": {},
   "outputs": [
    {
     "name": "stdout",
     "output_type": "stream",
     "text": [
      "RR\n",
      "baseline 0.631\n",
      "RPC 0.613\n",
      "IBM 0.533\n",
      "IBPL 0.613\n",
      "LRRF 0.58\n",
      "LRT 0.381\n",
      "rfr 0.571\n",
      "\n",
      "KT\n",
      "baseline 0.319\n",
      "RPC 0.319\n",
      "IBM 0.152\n",
      "IBPL 0.224\n",
      "LRRF 0.064\n",
      "LRT -0.13\n",
      "rfr 0.262\n"
     ]
    }
   ],
   "source": [
    "print(\"RR\")\n",
    "get_mean_perf_by_model(amide_random_perfs, \"reciprocal_rank\")\n",
    "print()\n",
    "print(\"KT\")\n",
    "get_mean_perf_by_model(amide_random_perfs, \"kendall_tau\")"
   ]
  },
  {
   "cell_type": "markdown",
   "metadata": {},
   "source": [
    "# Dataset structure analysis"
   ]
  },
  {
   "cell_type": "code",
   "execution_count": 2,
   "metadata": {},
   "outputs": [],
   "source": [
    "RAW_DATA = pd.read_excel(\n",
    "    \"datasets/natureHTE/natureHTE.xlsx\",\n",
    "    sheet_name=\"Report - Variable Conditions\",\n",
    "    usecols=[\"BB SMILES\", \"Chemistry\", \"Catalyst\", \"Base\", \"Rel. % Conv.\"],\n",
    ")\n",
    "\n",
    "AMINE_DATA = RAW_DATA[RAW_DATA[\"Chemistry\"] == \"Amine\"]\n",
    "SULFON_DATA = RAW_DATA[RAW_DATA[\"Chemistry\"] == \"Sulfonamide\"].reset_index()\n",
    "AMIDE_DATA = RAW_DATA[RAW_DATA[\"Chemistry\"] == \"Amide\"].reset_index()"
   ]
  },
  {
   "cell_type": "code",
   "execution_count": 15,
   "metadata": {},
   "outputs": [
    {
     "data": {
      "text/plain": [
       "array([59.4375    , 36.48958333, 32.07291667, 33.27083333])"
      ]
     },
     "execution_count": 15,
     "metadata": {},
     "output_type": "execute_result"
    }
   ],
   "source": [
    "amine_yields = AMINE_DATA[\"Rel. % Conv.\"].to_numpy().reshape((96,4))\n",
    "amine_yields[np.argwhere(np.isnan(amine_yields))] = 0\n",
    "np.mean(amine_yields, axis=0)"
   ]
  },
  {
   "cell_type": "code",
   "execution_count": 11,
   "metadata": {},
   "outputs": [
    {
     "name": "stdout",
     "output_type": "stream",
     "text": [
      "51\n",
      "12\n",
      "16\n",
      "15\n"
     ]
    }
   ],
   "source": [
    "from dataset_utils import *\n",
    "amine_rank = yield_to_ranking(AMINE_DATA[\"Rel. % Conv.\"].to_numpy().reshape((96,4)))\n",
    "best_conds = np.where(amine_rank==1)[1]\n",
    "for i in range(4):\n",
    "    print(np.sum(best_conds==i))"
   ]
  },
  {
   "cell_type": "code",
   "execution_count": 12,
   "metadata": {},
   "outputs": [
    {
     "name": "stdout",
     "output_type": "stream",
     "text": [
      "19\n",
      "35\n",
      "13\n",
      "20\n"
     ]
    }
   ],
   "source": [
    "sec_best_conds = np.where(amine_rank==2)[1]\n",
    "for i in range(4):\n",
    "    print(np.sum(sec_best_conds==i))"
   ]
  },
  {
   "cell_type": "code",
   "execution_count": 17,
   "metadata": {},
   "outputs": [
    {
     "data": {
      "text/plain": [
       "Counter({2: 44, 3: 21, 0: 18, 1: 13})"
      ]
     },
     "execution_count": 17,
     "metadata": {},
     "output_type": "execute_result"
    }
   ],
   "source": [
    "from collections import Counter\n",
    "tlac_y = np.argmin(amine_yields, axis=1)\n",
    "Counter(tlac_y)"
   ]
  },
  {
   "cell_type": "code",
   "execution_count": null,
   "metadata": {},
   "outputs": [],
   "source": []
  }
 ],
 "metadata": {
  "kernelspec": {
   "display_name": "label",
   "language": "python",
   "name": "python3"
  },
  "language_info": {
   "codemirror_mode": {
    "name": "ipython",
    "version": 3
   },
   "file_extension": ".py",
   "mimetype": "text/x-python",
   "name": "python",
   "nbconvert_exporter": "python",
   "pygments_lexer": "ipython3",
   "version": "3.10.12"
  },
  "orig_nbformat": 4
 },
 "nbformat": 4,
 "nbformat_minor": 2
}
