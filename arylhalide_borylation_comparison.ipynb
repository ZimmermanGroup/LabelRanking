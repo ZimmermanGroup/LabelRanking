{
 "cells": [
  {
   "cell_type": "code",
   "execution_count": 1,
   "metadata": {},
   "outputs": [],
   "source": [
    "import pandas as pd\n",
    "import numpy as np\n",
    "from scipy.stats.mstats import rankdata\n",
    "from collections import Counter\n",
    "from sklearn.ensemble import RandomForestRegressor\n",
    "from sklearn.metrics import mean_squared_error\n",
    "from sklearn.model_selection import GridSearchCV, PredefinedSplit\n",
    "from math import sqrt\n",
    "import seaborn as sns\n",
    "import matplotlib.pyplot as plt\n",
    "from label_ranking import *\n",
    "from rank_aggregation import *"
   ]
  },
  {
   "cell_type": "markdown",
   "metadata": {},
   "source": [
    "# MeOH dataset"
   ]
  },
  {
   "cell_type": "code",
   "execution_count": 2,
   "metadata": {},
   "outputs": [],
   "source": [
    "meoh_data = pd.read_csv(\"datasets/aryl_borylation/data_MeOH_final.csv\")\n",
    "ligands = list(meoh_data[\"Ligand\"].unique())\n",
    "substrates = list(meoh_data[\"Electrophile\"].unique())"
   ]
  },
  {
   "cell_type": "code",
   "execution_count": 3,
   "metadata": {},
   "outputs": [
    {
     "name": "stdout",
     "output_type": "stream",
     "text": [
      "There are 3 missing entries. (array([ 3,  6, 10]), array([14, 14, 14]))\n"
     ]
    }
   ],
   "source": [
    "yield_array = np.ones((len(substrates), len(ligands))) * -1\n",
    "\n",
    "for i, row in meoh_data.iterrows():\n",
    "    ligand_name = row[\"Ligand\"]\n",
    "    substrate_name = row[\"Electrophile\"]\n",
    "    yield_array[substrates.index(substrate_name), ligands.index(ligand_name)]  = row[\"Yield\"]\n",
    "    \n",
    "print(f\"There are {np.sum(yield_array<0)} missing entries. {np.where(yield_array < 0)}\")\n",
    "\n",
    "yield_array[yield_array < 0] = 0"
   ]
  },
  {
   "cell_type": "code",
   "execution_count": 4,
   "metadata": {},
   "outputs": [
    {
     "name": "stdout",
     "output_type": "stream",
     "text": [
      "Counter({18: 6, 4: 5, 17: 4, 5: 4, 0: 3, 21: 2, 16: 2, 2: 2, 11: 1, 14: 1, 10: 1, 3: 1, 6: 1, 19: 1})\n"
     ]
    }
   ],
   "source": [
    "ranking_array = yield_array.shape[1] - rankdata(yield_array, axis=1) + 1\n",
    "\n",
    "print(Counter(np.argmin(ranking_array, axis=1)))"
   ]
  },
  {
   "cell_type": "code",
   "execution_count": 6,
   "metadata": {},
   "outputs": [
    {
     "data": {
      "text/plain": [
       "array([20,  9, 13, 12, 22,  1, 15, 14,  6, 11, 21,  8,  0, 19, 10,  2,  7,\n",
       "       16,  5,  3, 17, 18,  4])"
      ]
     },
     "execution_count": 6,
     "metadata": {},
     "output_type": "execute_result"
    }
   ],
   "source": [
    "np.argsort(np.mean(yield_array, axis=0))"
   ]
  },
  {
   "cell_type": "code",
   "execution_count": 5,
   "metadata": {},
   "outputs": [
    {
     "data": {
      "text/plain": [
       "Counter({3: 5,\n",
       "         4: 4,\n",
       "         0: 3,\n",
       "         17: 3,\n",
       "         16: 3,\n",
       "         19: 3,\n",
       "         18: 2,\n",
       "         2: 2,\n",
       "         5: 2,\n",
       "         13: 2,\n",
       "         21: 2,\n",
       "         11: 1})"
      ]
     },
     "execution_count": 5,
     "metadata": {},
     "output_type": "execute_result"
    }
   ],
   "source": [
    "Counter(np.where(ranking_array == 2)[1])"
   ]
  },
  {
   "cell_type": "markdown",
   "metadata": {},
   "source": [
    "### Original paper"
   ]
  },
  {
   "cell_type": "code",
   "execution_count": 6,
   "metadata": {},
   "outputs": [
    {
     "name": "stdout",
     "output_type": "stream",
     "text": [
      "['1H-indol-5-yl\\xa0N,N-dimethylsulfamate', 'Ethyl\\xa04-chloro-3-fluorobenzoate', 'Clofibrate']\n",
      "(69, 157)\n"
     ]
    }
   ],
   "source": [
    "# External data\n",
    "indices=[0,12,17]\n",
    "mapped = map(meoh_data.Electrophile.unique().tolist().__getitem__, indices)\n",
    "external_list=list(mapped)\n",
    "print(external_list)\n",
    "\n",
    "raw_validation_df = meoh_data[meoh_data['Electrophile'].isin(external_list)]\n",
    "validation_df = raw_validation_df.drop(['Electrophile_inchi', 'Solvent_inchi', 'Ligand_inchi', 'Product_inchi', 'Electrophile', 'Ligand'], axis = 1)\n",
    "print(validation_df.shape)"
   ]
  },
  {
   "cell_type": "code",
   "execution_count": 7,
   "metadata": {},
   "outputs": [
    {
     "name": "stdout",
     "output_type": "stream",
     "text": [
      "(710, 157)\n"
     ]
    }
   ],
   "source": [
    "# Training data\n",
    "exclude_list = validation_df.index.values.tolist()\n",
    "raw_train_df = meoh_data[~meoh_data.index.isin(exclude_list)]\n",
    "train_df = raw_train_df.drop(['Electrophile_inchi', 'Solvent_inchi', 'Ligand_inchi', 'Product_inchi', 'Electrophile', 'Ligand'], axis = 1)\n",
    "print(train_df.shape)"
   ]
  },
  {
   "cell_type": "code",
   "execution_count": 8,
   "metadata": {},
   "outputs": [],
   "source": [
    "X_train=train_df.drop(columns=['Yield'])\n",
    "Y_train=train_df['Yield']"
   ]
  },
  {
   "cell_type": "code",
   "execution_count": 9,
   "metadata": {},
   "outputs": [
    {
     "name": "stdout",
     "output_type": "stream",
     "text": [
      "21.7\n"
     ]
    }
   ],
   "source": [
    "# Best for the MeOH dataset\n",
    "rfr = RandomForestRegressor(\n",
    "    n_estimators=610,\n",
    "    min_samples_split=15,\n",
    "    min_samples_leaf=1,\n",
    "    max_features=\"log2\",\n",
    "    max_depth=10,\n",
    "    random_state=np.random.RandomState(0)\n",
    ")\n",
    "\n",
    "rfr.fit(X_train, Y_train)\n",
    "\n",
    "X_test = validation_df.iloc[:, validation_df.columns.isin(X_train.columns)]\n",
    "y_test = validation_df[\"Yield\"]\n",
    "\n",
    "y_pred = rfr.predict(X_test)\n",
    "mse = mean_squared_error(y_test, y_pred)\n",
    "print(round(sqrt(mse), 1))"
   ]
  },
  {
   "cell_type": "code",
   "execution_count": 10,
   "metadata": {},
   "outputs": [],
   "source": [
    "predicted_yield_array = np.zeros((3,23))\n",
    "actual_yield_array = np.zeros((3,23))\n",
    "rowcount = 0\n",
    "for i, row in raw_validation_df.iterrows() :\n",
    "    elec = row[\"Electrophile\"]\n",
    "    ligand = row[\"Ligand\"]\n",
    "    predicted_yield_array[external_list.index(elec), ligands.index(ligand)] = y_pred[rowcount]\n",
    "    actual_yield_array[external_list.index(elec), ligands.index(ligand)]  = row[\"Yield\"]\n",
    "    rowcount += 1\n",
    "\n",
    "rfr_predicted_rank_array = predicted_yield_array.shape[1] - rankdata(predicted_yield_array, axis=1) + 1\n",
    "actual_rank_array = actual_yield_array.shape[1] - rankdata(actual_yield_array, axis=1) + 1"
   ]
  },
  {
   "cell_type": "code",
   "execution_count": 11,
   "metadata": {},
   "outputs": [
    {
     "data": {
      "text/plain": [
       "array([[ 8.,  3.,  4.,  1., 18.],\n",
       "       [18.,  5.,  3.,  4.,  8.],\n",
       "       [ 2.,  1.,  3.,  6.,  4.]])"
      ]
     },
     "execution_count": 11,
     "metadata": {},
     "output_type": "execute_result"
    }
   ],
   "source": [
    "### Predicted ranks\n",
    "actual_rank_array[np.where(rfr_predicted_rank_array <= 5)].reshape((3,5))"
   ]
  },
  {
   "cell_type": "code",
   "execution_count": 12,
   "metadata": {},
   "outputs": [
    {
     "data": {
      "text/plain": [
       "array([[ 2.52 ,  9.94 , 18.25 , 19.73 , 20.03 , 22.11 , 24.63 , 29.38 ,\n",
       "        29.82 , 30.27 , 30.27 , 34.12 , 36.65 , 38.87 , 39.17 , 39.32 ,\n",
       "        40.8  , 52.08 , 52.52 , 60.24 , 75.67 , 93.32 , 93.47 ],\n",
       "       [13.88 , 16.775, 16.775, 16.825, 20.29 , 20.675, 23.05 , 24.66 ,\n",
       "        25.86 , 29.795, 30.11 , 34.075, 37.63 , 39.195, 43.93 , 47.53 ,\n",
       "        50.27 , 54.325, 55.48 , 55.91 , 59.92 , 61.91 , 64.245],\n",
       "       [ 0.   ,  0.82 ,  5.66 ,  6.73 , 12.16 , 17.72 , 18.23 , 19.74 ,\n",
       "        30.4  , 42.08 , 53.73 , 54.07 , 57.87 , 74.99 , 76.65 , 80.25 ,\n",
       "        81.79 , 81.83 , 82.92 , 87.76 , 88.21 , 88.86 , 89.66 ]])"
      ]
     },
     "execution_count": 12,
     "metadata": {},
     "output_type": "execute_result"
    }
   ],
   "source": [
    "np.sort(actual_yield_array)[::-1]"
   ]
  },
  {
   "cell_type": "markdown",
   "metadata": {},
   "source": [
    "### RPC"
   ]
  },
  {
   "cell_type": "code",
   "execution_count": 13,
   "metadata": {},
   "outputs": [
    {
     "data": {
      "text/html": [
       "<style>#sk-container-id-1 {color: black;background-color: white;}#sk-container-id-1 pre{padding: 0;}#sk-container-id-1 div.sk-toggleable {background-color: white;}#sk-container-id-1 label.sk-toggleable__label {cursor: pointer;display: block;width: 100%;margin-bottom: 0;padding: 0.3em;box-sizing: border-box;text-align: center;}#sk-container-id-1 label.sk-toggleable__label-arrow:before {content: \"▸\";float: left;margin-right: 0.25em;color: #696969;}#sk-container-id-1 label.sk-toggleable__label-arrow:hover:before {color: black;}#sk-container-id-1 div.sk-estimator:hover label.sk-toggleable__label-arrow:before {color: black;}#sk-container-id-1 div.sk-toggleable__content {max-height: 0;max-width: 0;overflow: hidden;text-align: left;background-color: #f0f8ff;}#sk-container-id-1 div.sk-toggleable__content pre {margin: 0.2em;color: black;border-radius: 0.25em;background-color: #f0f8ff;}#sk-container-id-1 input.sk-toggleable__control:checked~div.sk-toggleable__content {max-height: 200px;max-width: 100%;overflow: auto;}#sk-container-id-1 input.sk-toggleable__control:checked~label.sk-toggleable__label-arrow:before {content: \"▾\";}#sk-container-id-1 div.sk-estimator input.sk-toggleable__control:checked~label.sk-toggleable__label {background-color: #d4ebff;}#sk-container-id-1 div.sk-label input.sk-toggleable__control:checked~label.sk-toggleable__label {background-color: #d4ebff;}#sk-container-id-1 input.sk-hidden--visually {border: 0;clip: rect(1px 1px 1px 1px);clip: rect(1px, 1px, 1px, 1px);height: 1px;margin: -1px;overflow: hidden;padding: 0;position: absolute;width: 1px;}#sk-container-id-1 div.sk-estimator {font-family: monospace;background-color: #f0f8ff;border: 1px dotted black;border-radius: 0.25em;box-sizing: border-box;margin-bottom: 0.5em;}#sk-container-id-1 div.sk-estimator:hover {background-color: #d4ebff;}#sk-container-id-1 div.sk-parallel-item::after {content: \"\";width: 100%;border-bottom: 1px solid gray;flex-grow: 1;}#sk-container-id-1 div.sk-label:hover label.sk-toggleable__label {background-color: #d4ebff;}#sk-container-id-1 div.sk-serial::before {content: \"\";position: absolute;border-left: 1px solid gray;box-sizing: border-box;top: 0;bottom: 0;left: 50%;z-index: 0;}#sk-container-id-1 div.sk-serial {display: flex;flex-direction: column;align-items: center;background-color: white;padding-right: 0.2em;padding-left: 0.2em;position: relative;}#sk-container-id-1 div.sk-item {position: relative;z-index: 1;}#sk-container-id-1 div.sk-parallel {display: flex;align-items: stretch;justify-content: center;background-color: white;position: relative;}#sk-container-id-1 div.sk-item::before, #sk-container-id-1 div.sk-parallel-item::before {content: \"\";position: absolute;border-left: 1px solid gray;box-sizing: border-box;top: 0;bottom: 0;left: 50%;z-index: -1;}#sk-container-id-1 div.sk-parallel-item {display: flex;flex-direction: column;z-index: 1;position: relative;background-color: white;}#sk-container-id-1 div.sk-parallel-item:first-child::after {align-self: flex-end;width: 50%;}#sk-container-id-1 div.sk-parallel-item:last-child::after {align-self: flex-start;width: 50%;}#sk-container-id-1 div.sk-parallel-item:only-child::after {width: 0;}#sk-container-id-1 div.sk-dashed-wrapped {border: 1px dashed gray;margin: 0 0.4em 0.5em 0.4em;box-sizing: border-box;padding-bottom: 0.4em;background-color: white;}#sk-container-id-1 div.sk-label label {font-family: monospace;font-weight: bold;display: inline-block;line-height: 1.2em;}#sk-container-id-1 div.sk-label-container {text-align: center;}#sk-container-id-1 div.sk-container {/* jupyter's `normalize.less` sets `[hidden] { display: none; }` but bootstrap.min.css set `[hidden] { display: none !important; }` so we also need the `!important` here to be able to override the default hidden behavior on the sphinx rendered scikit-learn.org. See: https://github.com/scikit-learn/scikit-learn/issues/21755 */display: inline-block !important;position: relative;}#sk-container-id-1 div.sk-text-repr-fallback {display: none;}</style><div id=\"sk-container-id-1\" class=\"sk-top-container\"><div class=\"sk-text-repr-fallback\"><pre>GridSearchCV(cv=5, estimator=RPC(), n_jobs=-1,\n",
       "             param_grid={&#x27;max_depth&#x27;: [2, 5, 10],\n",
       "                         &#x27;n_estimators&#x27;: [50, 100, 200]},\n",
       "             scoring=make_scorer(kendall_tau))</pre><b>In a Jupyter environment, please rerun this cell to show the HTML representation or trust the notebook. <br />On GitHub, the HTML representation is unable to render, please try loading this page with nbviewer.org.</b></div><div class=\"sk-container\" hidden><div class=\"sk-item sk-dashed-wrapped\"><div class=\"sk-label-container\"><div class=\"sk-label sk-toggleable\"><input class=\"sk-toggleable__control sk-hidden--visually\" id=\"sk-estimator-id-1\" type=\"checkbox\" ><label for=\"sk-estimator-id-1\" class=\"sk-toggleable__label sk-toggleable__label-arrow\">GridSearchCV</label><div class=\"sk-toggleable__content\"><pre>GridSearchCV(cv=5, estimator=RPC(), n_jobs=-1,\n",
       "             param_grid={&#x27;max_depth&#x27;: [2, 5, 10],\n",
       "                         &#x27;n_estimators&#x27;: [50, 100, 200]},\n",
       "             scoring=make_scorer(kendall_tau))</pre></div></div></div><div class=\"sk-parallel\"><div class=\"sk-parallel-item\"><div class=\"sk-item\"><div class=\"sk-label-container\"><div class=\"sk-label sk-toggleable\"><input class=\"sk-toggleable__control sk-hidden--visually\" id=\"sk-estimator-id-2\" type=\"checkbox\" ><label for=\"sk-estimator-id-2\" class=\"sk-toggleable__label sk-toggleable__label-arrow\">estimator: RPC</label><div class=\"sk-toggleable__content\"><pre>RPC()</pre></div></div></div><div class=\"sk-serial\"><div class=\"sk-item\"><div class=\"sk-estimator sk-toggleable\"><input class=\"sk-toggleable__control sk-hidden--visually\" id=\"sk-estimator-id-3\" type=\"checkbox\" ><label for=\"sk-estimator-id-3\" class=\"sk-toggleable__label sk-toggleable__label-arrow\">RPC</label><div class=\"sk-toggleable__content\"><pre>RPC()</pre></div></div></div></div></div></div></div></div></div></div>"
      ],
      "text/plain": [
       "GridSearchCV(cv=5, estimator=RPC(), n_jobs=-1,\n",
       "             param_grid={'max_depth': [2, 5, 10],\n",
       "                         'n_estimators': [50, 100, 200]},\n",
       "             scoring=make_scorer(kendall_tau))"
      ]
     },
     "execution_count": 13,
     "metadata": {},
     "output_type": "execute_result"
    }
   ],
   "source": [
    "train_electrophiles = list(raw_train_df[\"Electrophile\"].unique())\n",
    "y_rank_train = np.zeros((len(train_electrophiles), len(ligands)))\n",
    "X_rank_train = np.zeros((len(train_electrophiles), 26))\n",
    "\n",
    "for i, row in raw_train_df.iterrows():\n",
    "    y_rank_train[train_electrophiles.index(row[\"Electrophile\"]), ligands.index(row[\"Ligand\"])] = row[\"Yield\"]\n",
    "    X_rank_train[train_electrophiles.index(row[\"Electrophile\"])] = row.iloc[:26]\n",
    "y_rank_train = y_rank_train.shape[1] - rankdata(y_rank_train, axis=1) + 1\n",
    "\n",
    "from sklearn.metrics import make_scorer\n",
    "\n",
    "def kendall_tau(y_true, y_pred):\n",
    "    kt = kendalltau(y_true, y_pred).statistic\n",
    "    return kt\n",
    "kt_score = make_scorer(kendall_tau, greater_is_better=True)\n",
    "\n",
    "rpc_gcv = GridSearchCV(\n",
    "    RPC(),\n",
    "    param_grid={\"n_estimators\":[50,100,200], \"max_depth\":[2,5,10]},\n",
    "    n_jobs = -1,\n",
    "    scoring=kt_score,\n",
    "    cv=5\n",
    ")\n",
    "rpc_gcv.fit(X_rank_train, y_rank_train)"
   ]
  },
  {
   "cell_type": "code",
   "execution_count": 14,
   "metadata": {},
   "outputs": [
    {
     "name": "stdout",
     "output_type": "stream",
     "text": [
      "[[ 5 18 12 15  3 16  9 13 11 14 10 17 22 21  2 19  4  6  1  7 23  8 20]\n",
      " [ 8 20  6 11  7 13 10 18 15 16  9 12 17 22 14 19  3  4  1  2 23  5 21]\n",
      " [14 15  6  2  1  4 19  5  8 22 10 11 20 21 13 16  9  7  3 12 23 18 17]]\n"
     ]
    }
   ],
   "source": [
    "y_rank_test = np.zeros((3, len(ligands)))\n",
    "X_rank_test = np.zeros((3, 26))\n",
    "\n",
    "for i, row in raw_validation_df.iterrows():\n",
    "    y_rank_test[external_list.index(row[\"Electrophile\"]), ligands.index(row[\"Ligand\"])] = row[\"Yield\"]\n",
    "    X_rank_test[external_list.index(row[\"Electrophile\"])] = row.iloc[:26]\n",
    "y_rank_test = y_rank_test.shape[1] - rankdata(y_rank_test, axis=1) + 1\n",
    "rpc_predicted_rank_array = rpc_gcv.predict(X_rank_test)\n",
    "print(rpc_predicted_rank_array)"
   ]
  },
  {
   "cell_type": "code",
   "execution_count": 15,
   "metadata": {},
   "outputs": [
    {
     "data": {
      "text/plain": [
       "array([[ 2.,  8., 11.,  3.,  1.],\n",
       "       [ 1.,  3.,  4.,  8.,  7.],\n",
       "       [ 2.,  1.,  3.,  6.,  4.]])"
      ]
     },
     "execution_count": 15,
     "metadata": {},
     "output_type": "execute_result"
    }
   ],
   "source": [
    "### Predicted ranks\n",
    "actual_rank_array[np.where(rpc_predicted_rank_array <= 5)].reshape((3,5))"
   ]
  },
  {
   "cell_type": "markdown",
   "metadata": {},
   "source": [
    "## LRRF"
   ]
  },
  {
   "cell_type": "code",
   "execution_count": 16,
   "metadata": {},
   "outputs": [
    {
     "data": {
      "text/html": [
       "<style>#sk-container-id-2 {color: black;background-color: white;}#sk-container-id-2 pre{padding: 0;}#sk-container-id-2 div.sk-toggleable {background-color: white;}#sk-container-id-2 label.sk-toggleable__label {cursor: pointer;display: block;width: 100%;margin-bottom: 0;padding: 0.3em;box-sizing: border-box;text-align: center;}#sk-container-id-2 label.sk-toggleable__label-arrow:before {content: \"▸\";float: left;margin-right: 0.25em;color: #696969;}#sk-container-id-2 label.sk-toggleable__label-arrow:hover:before {color: black;}#sk-container-id-2 div.sk-estimator:hover label.sk-toggleable__label-arrow:before {color: black;}#sk-container-id-2 div.sk-toggleable__content {max-height: 0;max-width: 0;overflow: hidden;text-align: left;background-color: #f0f8ff;}#sk-container-id-2 div.sk-toggleable__content pre {margin: 0.2em;color: black;border-radius: 0.25em;background-color: #f0f8ff;}#sk-container-id-2 input.sk-toggleable__control:checked~div.sk-toggleable__content {max-height: 200px;max-width: 100%;overflow: auto;}#sk-container-id-2 input.sk-toggleable__control:checked~label.sk-toggleable__label-arrow:before {content: \"▾\";}#sk-container-id-2 div.sk-estimator input.sk-toggleable__control:checked~label.sk-toggleable__label {background-color: #d4ebff;}#sk-container-id-2 div.sk-label input.sk-toggleable__control:checked~label.sk-toggleable__label {background-color: #d4ebff;}#sk-container-id-2 input.sk-hidden--visually {border: 0;clip: rect(1px 1px 1px 1px);clip: rect(1px, 1px, 1px, 1px);height: 1px;margin: -1px;overflow: hidden;padding: 0;position: absolute;width: 1px;}#sk-container-id-2 div.sk-estimator {font-family: monospace;background-color: #f0f8ff;border: 1px dotted black;border-radius: 0.25em;box-sizing: border-box;margin-bottom: 0.5em;}#sk-container-id-2 div.sk-estimator:hover {background-color: #d4ebff;}#sk-container-id-2 div.sk-parallel-item::after {content: \"\";width: 100%;border-bottom: 1px solid gray;flex-grow: 1;}#sk-container-id-2 div.sk-label:hover label.sk-toggleable__label {background-color: #d4ebff;}#sk-container-id-2 div.sk-serial::before {content: \"\";position: absolute;border-left: 1px solid gray;box-sizing: border-box;top: 0;bottom: 0;left: 50%;z-index: 0;}#sk-container-id-2 div.sk-serial {display: flex;flex-direction: column;align-items: center;background-color: white;padding-right: 0.2em;padding-left: 0.2em;position: relative;}#sk-container-id-2 div.sk-item {position: relative;z-index: 1;}#sk-container-id-2 div.sk-parallel {display: flex;align-items: stretch;justify-content: center;background-color: white;position: relative;}#sk-container-id-2 div.sk-item::before, #sk-container-id-2 div.sk-parallel-item::before {content: \"\";position: absolute;border-left: 1px solid gray;box-sizing: border-box;top: 0;bottom: 0;left: 50%;z-index: -1;}#sk-container-id-2 div.sk-parallel-item {display: flex;flex-direction: column;z-index: 1;position: relative;background-color: white;}#sk-container-id-2 div.sk-parallel-item:first-child::after {align-self: flex-end;width: 50%;}#sk-container-id-2 div.sk-parallel-item:last-child::after {align-self: flex-start;width: 50%;}#sk-container-id-2 div.sk-parallel-item:only-child::after {width: 0;}#sk-container-id-2 div.sk-dashed-wrapped {border: 1px dashed gray;margin: 0 0.4em 0.5em 0.4em;box-sizing: border-box;padding-bottom: 0.4em;background-color: white;}#sk-container-id-2 div.sk-label label {font-family: monospace;font-weight: bold;display: inline-block;line-height: 1.2em;}#sk-container-id-2 div.sk-label-container {text-align: center;}#sk-container-id-2 div.sk-container {/* jupyter's `normalize.less` sets `[hidden] { display: none; }` but bootstrap.min.css set `[hidden] { display: none !important; }` so we also need the `!important` here to be able to override the default hidden behavior on the sphinx rendered scikit-learn.org. See: https://github.com/scikit-learn/scikit-learn/issues/21755 */display: inline-block !important;position: relative;}#sk-container-id-2 div.sk-text-repr-fallback {display: none;}</style><div id=\"sk-container-id-2\" class=\"sk-top-container\"><div class=\"sk-text-repr-fallback\"><pre>GridSearchCV(cv=5, estimator=LabelRankingRandomForest(), n_jobs=-1,\n",
       "             param_grid={&#x27;max_depth&#x27;: [2, 5, 10],\n",
       "                         &#x27;n_estimators&#x27;: [50, 100, 200]},\n",
       "             scoring=make_scorer(kendall_tau))</pre><b>In a Jupyter environment, please rerun this cell to show the HTML representation or trust the notebook. <br />On GitHub, the HTML representation is unable to render, please try loading this page with nbviewer.org.</b></div><div class=\"sk-container\" hidden><div class=\"sk-item sk-dashed-wrapped\"><div class=\"sk-label-container\"><div class=\"sk-label sk-toggleable\"><input class=\"sk-toggleable__control sk-hidden--visually\" id=\"sk-estimator-id-4\" type=\"checkbox\" ><label for=\"sk-estimator-id-4\" class=\"sk-toggleable__label sk-toggleable__label-arrow\">GridSearchCV</label><div class=\"sk-toggleable__content\"><pre>GridSearchCV(cv=5, estimator=LabelRankingRandomForest(), n_jobs=-1,\n",
       "             param_grid={&#x27;max_depth&#x27;: [2, 5, 10],\n",
       "                         &#x27;n_estimators&#x27;: [50, 100, 200]},\n",
       "             scoring=make_scorer(kendall_tau))</pre></div></div></div><div class=\"sk-parallel\"><div class=\"sk-parallel-item\"><div class=\"sk-item\"><div class=\"sk-label-container\"><div class=\"sk-label sk-toggleable\"><input class=\"sk-toggleable__control sk-hidden--visually\" id=\"sk-estimator-id-5\" type=\"checkbox\" ><label for=\"sk-estimator-id-5\" class=\"sk-toggleable__label sk-toggleable__label-arrow\">estimator: LabelRankingRandomForest</label><div class=\"sk-toggleable__content\"><pre>LabelRankingRandomForest()</pre></div></div></div><div class=\"sk-serial\"><div class=\"sk-item\"><div class=\"sk-estimator sk-toggleable\"><input class=\"sk-toggleable__control sk-hidden--visually\" id=\"sk-estimator-id-6\" type=\"checkbox\" ><label for=\"sk-estimator-id-6\" class=\"sk-toggleable__label sk-toggleable__label-arrow\">LabelRankingRandomForest</label><div class=\"sk-toggleable__content\"><pre>LabelRankingRandomForest()</pre></div></div></div></div></div></div></div></div></div></div>"
      ],
      "text/plain": [
       "GridSearchCV(cv=5, estimator=LabelRankingRandomForest(), n_jobs=-1,\n",
       "             param_grid={'max_depth': [2, 5, 10],\n",
       "                         'n_estimators': [50, 100, 200]},\n",
       "             scoring=make_scorer(kendall_tau))"
      ]
     },
     "execution_count": 16,
     "metadata": {},
     "output_type": "execute_result"
    }
   ],
   "source": [
    "lrrf_gcv = GridSearchCV(\n",
    "    LabelRankingRandomForest(),\n",
    "    param_grid={\"n_estimators\":[50,100,200], \"max_depth\":[2,5,10]},\n",
    "    n_jobs = -1,\n",
    "    scoring=kt_score,\n",
    "    cv=5\n",
    ")\n",
    "lrrf_gcv.fit(X_rank_train, y_rank_train)"
   ]
  },
  {
   "cell_type": "code",
   "execution_count": 17,
   "metadata": {},
   "outputs": [
    {
     "data": {
      "text/plain": [
       "array([[2., 8., 3., 4., 1.],\n",
       "       [6., 5., 1., 3., 4.],\n",
       "       [2., 1., 3., 6., 4.]])"
      ]
     },
     "execution_count": 17,
     "metadata": {},
     "output_type": "execute_result"
    }
   ],
   "source": [
    "lrrf_predicted_rank_array = lrrf_gcv.predict(X_rank_test)\n",
    "\n",
    "actual_rank_array[np.where(lrrf_predicted_rank_array <= 5)].reshape((3,5))"
   ]
  },
  {
   "cell_type": "markdown",
   "metadata": {},
   "source": [
    "# EtOH dataset"
   ]
  },
  {
   "cell_type": "code",
   "execution_count": 18,
   "metadata": {},
   "outputs": [
    {
     "name": "stdout",
     "output_type": "stream",
     "text": [
      "(710, 157)\n"
     ]
    }
   ],
   "source": [
    "etoh_data = pd.read_csv(\"datasets/aryl_borylation/data_EtOH_final.csv\")\n",
    "ligands = list(etoh_data[\"Ligand\"].unique())\n",
    "substrates = list(etoh_data[\"Electrophile\"].unique())\n",
    "\n",
    "# yield_array = np.ones((len(substrates), len(ligands))) * -1\n",
    "\n",
    "# for i, row in etoh_data.iterrows():\n",
    "#     ligand_name = row[\"Ligand\"]\n",
    "#     substrate_name = row[\"Electrophile\"]\n",
    "#     yield_array[substrates.index(substrate_name), ligands.index(ligand_name)]  = row[\"Yield\"]\n",
    "    \n",
    "# print(f\"There are {np.sum(yield_array<0)} missing entries.\")\n",
    "\n",
    "# yield_array[yield_array < 0] = 0\n",
    "\n",
    "etoh_raw_validation_df = etoh_data[etoh_data['Electrophile'].isin(external_list)]\n",
    "etoh_validation_df = etoh_raw_validation_df.drop(['Electrophile_inchi', 'Solvent_inchi', 'Ligand_inchi', 'Product_inchi', 'Electrophile', 'Ligand'], axis = 1)\n",
    "\n",
    "# Training data\n",
    "etoh_raw_train_df = etoh_data[~etoh_data.index.isin(exclude_list)]\n",
    "etoh_train_df = etoh_raw_train_df.drop(['Electrophile_inchi', 'Solvent_inchi', 'Ligand_inchi', 'Product_inchi', 'Electrophile', 'Ligand'], axis = 1)\n",
    "print(etoh_train_df.shape)\n",
    "\n",
    "X_etoh_train=etoh_train_df.drop(columns=['Yield'])\n",
    "Y_etoh_train=etoh_train_df['Yield']"
   ]
  },
  {
   "cell_type": "code",
   "execution_count": 19,
   "metadata": {},
   "outputs": [
    {
     "name": "stdout",
     "output_type": "stream",
     "text": [
      "19.1\n"
     ]
    }
   ],
   "source": [
    "# Best for the EtOH dataset\n",
    "rfr = RandomForestRegressor(\n",
    "    n_estimators=1986,\n",
    "    min_samples_split=10,\n",
    "    min_samples_leaf=4,\n",
    "    max_features=\"log2\",\n",
    "    max_depth=160,\n",
    "    random_state=np.random.RandomState(0),\n",
    "    bootstrap=False\n",
    ")\n",
    "\n",
    "rfr.fit(X_etoh_train, Y_etoh_train)\n",
    "\n",
    "X_etoh_test = etoh_validation_df.iloc[:, etoh_validation_df.columns.isin(X_etoh_train.columns)]\n",
    "y_etoh_test = etoh_validation_df[\"Yield\"]\n",
    "\n",
    "y_etoh_pred = rfr.predict(X_etoh_test)\n",
    "mse = mean_squared_error(y_etoh_test, y_etoh_pred)\n",
    "print(round(sqrt(mse), 1))"
   ]
  },
  {
   "cell_type": "code",
   "execution_count": 20,
   "metadata": {},
   "outputs": [
    {
     "name": "stdout",
     "output_type": "stream",
     "text": [
      "[[ 3.]\n",
      " [10.]\n",
      " [ 1.]]\n",
      "\n",
      "[[ 4.  3.]\n",
      " [ 5. 10.]\n",
      " [ 1.  3.]]\n",
      "\n",
      "[[ 4.  3.  2.]\n",
      " [ 6.  5. 10.]\n",
      " [ 1.  8.  3.]]\n",
      "\n",
      "[[ 4.  3.  7.  2.]\n",
      " [ 3.  6.  5. 10.]\n",
      " [ 1. 10.  8.  3.]]\n",
      "\n",
      "[[ 4.  3.  7.  2.  6.]\n",
      " [ 3.  6.  5. 10.  9.]\n",
      " [ 1.  4. 10.  8.  3.]]\n",
      "\n"
     ]
    }
   ],
   "source": [
    "predicted_yield_array = np.zeros((3,23))\n",
    "actual_yield_array = np.zeros((3,23))\n",
    "rowcount = 0\n",
    "for i, row in etoh_raw_validation_df.iterrows() :\n",
    "    elec = row[\"Electrophile\"]\n",
    "    ligand = row[\"Ligand\"]\n",
    "    predicted_yield_array[external_list.index(elec), ligands.index(ligand)] = y_etoh_pred[rowcount]\n",
    "    actual_yield_array[external_list.index(elec), ligands.index(ligand)]  = row[\"Yield\"]\n",
    "    rowcount += 1\n",
    "\n",
    "etoh_rfr_predicted_rank_array = predicted_yield_array.shape[1] - rankdata(predicted_yield_array, axis=1) + 1\n",
    "actual_rank_array = actual_yield_array.shape[1] - rankdata(actual_yield_array, axis=1) + 1\n",
    "\n",
    "### Predicted ranks\n",
    "for i in range(1,6) :\n",
    "    print(actual_rank_array[np.where(etoh_rfr_predicted_rank_array <= i)].reshape((3,i)))\n",
    "    print()"
   ]
  },
  {
   "cell_type": "code",
   "execution_count": 21,
   "metadata": {},
   "outputs": [
    {
     "data": {
      "text/plain": [
       "array([[ 1.48 ,  5.19 ,  7.12 , 10.68 , 23.29 , 27.3  , 32.94 , 38.13 ,\n",
       "        38.43 , 39.17 , 43.77 , 46.29 , 46.59 , 53.71 , 56.83 , 61.72 ,\n",
       "        62.02 , 69.88 , 72.26 , 75.07 , 76.85 , 82.64 , 95.25 ],\n",
       "       [11.91 , 13.45 , 13.495, 14.285, 16.3  , 17.07 , 18.635, 19.02 ,\n",
       "        20.605, 24.14 , 24.545, 25.31 , 27.28 , 29.32 , 29.705, 30.835,\n",
       "        30.88 , 34.55 , 36.16 , 37.61 , 38.38 , 43.61 , 43.995],\n",
       "       [ 0.   ,  0.   ,  2.31 ,  3.73 ,  6.37 , 11.34 , 16.8  , 53.8  ,\n",
       "        56.11 , 64.52 , 68.95 , 69.3  , 71.75 , 72.88 , 80.44 , 83.28 ,\n",
       "        85.3  , 85.47 , 86.96 , 87.13 , 87.97 , 88.21 , 88.35 ]])"
      ]
     },
     "execution_count": 21,
     "metadata": {},
     "output_type": "execute_result"
    }
   ],
   "source": [
    "np.sort(actual_yield_array)[::-1]"
   ]
  },
  {
   "cell_type": "markdown",
   "metadata": {},
   "source": [
    "## RPC"
   ]
  },
  {
   "cell_type": "code",
   "execution_count": 22,
   "metadata": {},
   "outputs": [
    {
     "data": {
      "text/html": [
       "<style>#sk-container-id-3 {color: black;background-color: white;}#sk-container-id-3 pre{padding: 0;}#sk-container-id-3 div.sk-toggleable {background-color: white;}#sk-container-id-3 label.sk-toggleable__label {cursor: pointer;display: block;width: 100%;margin-bottom: 0;padding: 0.3em;box-sizing: border-box;text-align: center;}#sk-container-id-3 label.sk-toggleable__label-arrow:before {content: \"▸\";float: left;margin-right: 0.25em;color: #696969;}#sk-container-id-3 label.sk-toggleable__label-arrow:hover:before {color: black;}#sk-container-id-3 div.sk-estimator:hover label.sk-toggleable__label-arrow:before {color: black;}#sk-container-id-3 div.sk-toggleable__content {max-height: 0;max-width: 0;overflow: hidden;text-align: left;background-color: #f0f8ff;}#sk-container-id-3 div.sk-toggleable__content pre {margin: 0.2em;color: black;border-radius: 0.25em;background-color: #f0f8ff;}#sk-container-id-3 input.sk-toggleable__control:checked~div.sk-toggleable__content {max-height: 200px;max-width: 100%;overflow: auto;}#sk-container-id-3 input.sk-toggleable__control:checked~label.sk-toggleable__label-arrow:before {content: \"▾\";}#sk-container-id-3 div.sk-estimator input.sk-toggleable__control:checked~label.sk-toggleable__label {background-color: #d4ebff;}#sk-container-id-3 div.sk-label input.sk-toggleable__control:checked~label.sk-toggleable__label {background-color: #d4ebff;}#sk-container-id-3 input.sk-hidden--visually {border: 0;clip: rect(1px 1px 1px 1px);clip: rect(1px, 1px, 1px, 1px);height: 1px;margin: -1px;overflow: hidden;padding: 0;position: absolute;width: 1px;}#sk-container-id-3 div.sk-estimator {font-family: monospace;background-color: #f0f8ff;border: 1px dotted black;border-radius: 0.25em;box-sizing: border-box;margin-bottom: 0.5em;}#sk-container-id-3 div.sk-estimator:hover {background-color: #d4ebff;}#sk-container-id-3 div.sk-parallel-item::after {content: \"\";width: 100%;border-bottom: 1px solid gray;flex-grow: 1;}#sk-container-id-3 div.sk-label:hover label.sk-toggleable__label {background-color: #d4ebff;}#sk-container-id-3 div.sk-serial::before {content: \"\";position: absolute;border-left: 1px solid gray;box-sizing: border-box;top: 0;bottom: 0;left: 50%;z-index: 0;}#sk-container-id-3 div.sk-serial {display: flex;flex-direction: column;align-items: center;background-color: white;padding-right: 0.2em;padding-left: 0.2em;position: relative;}#sk-container-id-3 div.sk-item {position: relative;z-index: 1;}#sk-container-id-3 div.sk-parallel {display: flex;align-items: stretch;justify-content: center;background-color: white;position: relative;}#sk-container-id-3 div.sk-item::before, #sk-container-id-3 div.sk-parallel-item::before {content: \"\";position: absolute;border-left: 1px solid gray;box-sizing: border-box;top: 0;bottom: 0;left: 50%;z-index: -1;}#sk-container-id-3 div.sk-parallel-item {display: flex;flex-direction: column;z-index: 1;position: relative;background-color: white;}#sk-container-id-3 div.sk-parallel-item:first-child::after {align-self: flex-end;width: 50%;}#sk-container-id-3 div.sk-parallel-item:last-child::after {align-self: flex-start;width: 50%;}#sk-container-id-3 div.sk-parallel-item:only-child::after {width: 0;}#sk-container-id-3 div.sk-dashed-wrapped {border: 1px dashed gray;margin: 0 0.4em 0.5em 0.4em;box-sizing: border-box;padding-bottom: 0.4em;background-color: white;}#sk-container-id-3 div.sk-label label {font-family: monospace;font-weight: bold;display: inline-block;line-height: 1.2em;}#sk-container-id-3 div.sk-label-container {text-align: center;}#sk-container-id-3 div.sk-container {/* jupyter's `normalize.less` sets `[hidden] { display: none; }` but bootstrap.min.css set `[hidden] { display: none !important; }` so we also need the `!important` here to be able to override the default hidden behavior on the sphinx rendered scikit-learn.org. See: https://github.com/scikit-learn/scikit-learn/issues/21755 */display: inline-block !important;position: relative;}#sk-container-id-3 div.sk-text-repr-fallback {display: none;}</style><div id=\"sk-container-id-3\" class=\"sk-top-container\"><div class=\"sk-text-repr-fallback\"><pre>GridSearchCV(cv=5, estimator=RPC(), n_jobs=-1,\n",
       "             param_grid={&#x27;max_depth&#x27;: [2, 5, 10],\n",
       "                         &#x27;n_estimators&#x27;: [50, 100, 200]},\n",
       "             scoring=make_scorer(kendall_tau))</pre><b>In a Jupyter environment, please rerun this cell to show the HTML representation or trust the notebook. <br />On GitHub, the HTML representation is unable to render, please try loading this page with nbviewer.org.</b></div><div class=\"sk-container\" hidden><div class=\"sk-item sk-dashed-wrapped\"><div class=\"sk-label-container\"><div class=\"sk-label sk-toggleable\"><input class=\"sk-toggleable__control sk-hidden--visually\" id=\"sk-estimator-id-7\" type=\"checkbox\" ><label for=\"sk-estimator-id-7\" class=\"sk-toggleable__label sk-toggleable__label-arrow\">GridSearchCV</label><div class=\"sk-toggleable__content\"><pre>GridSearchCV(cv=5, estimator=RPC(), n_jobs=-1,\n",
       "             param_grid={&#x27;max_depth&#x27;: [2, 5, 10],\n",
       "                         &#x27;n_estimators&#x27;: [50, 100, 200]},\n",
       "             scoring=make_scorer(kendall_tau))</pre></div></div></div><div class=\"sk-parallel\"><div class=\"sk-parallel-item\"><div class=\"sk-item\"><div class=\"sk-label-container\"><div class=\"sk-label sk-toggleable\"><input class=\"sk-toggleable__control sk-hidden--visually\" id=\"sk-estimator-id-8\" type=\"checkbox\" ><label for=\"sk-estimator-id-8\" class=\"sk-toggleable__label sk-toggleable__label-arrow\">estimator: RPC</label><div class=\"sk-toggleable__content\"><pre>RPC()</pre></div></div></div><div class=\"sk-serial\"><div class=\"sk-item\"><div class=\"sk-estimator sk-toggleable\"><input class=\"sk-toggleable__control sk-hidden--visually\" id=\"sk-estimator-id-9\" type=\"checkbox\" ><label for=\"sk-estimator-id-9\" class=\"sk-toggleable__label sk-toggleable__label-arrow\">RPC</label><div class=\"sk-toggleable__content\"><pre>RPC()</pre></div></div></div></div></div></div></div></div></div></div>"
      ],
      "text/plain": [
       "GridSearchCV(cv=5, estimator=RPC(), n_jobs=-1,\n",
       "             param_grid={'max_depth': [2, 5, 10],\n",
       "                         'n_estimators': [50, 100, 200]},\n",
       "             scoring=make_scorer(kendall_tau))"
      ]
     },
     "execution_count": 22,
     "metadata": {},
     "output_type": "execute_result"
    }
   ],
   "source": [
    "etoh_train_electrophiles = list(etoh_raw_train_df[\"Electrophile\"].unique())\n",
    "y_rank_etoh_train = np.zeros((len(etoh_train_electrophiles), len(ligands)))\n",
    "X_rank_etoh_train = np.zeros((len(etoh_train_electrophiles), 26))\n",
    "\n",
    "for i, row in etoh_raw_train_df.iterrows():\n",
    "    y_rank_etoh_train[etoh_train_electrophiles.index(row[\"Electrophile\"]), ligands.index(row[\"Ligand\"])] = row[\"Yield\"]\n",
    "    X_rank_etoh_train[etoh_train_electrophiles.index(row[\"Electrophile\"])] = row.iloc[:26]\n",
    "y_rank_etoh_train = y_rank_etoh_train.shape[1] - rankdata(y_rank_etoh_train, axis=1) + 1\n",
    "\n",
    "rpc_gcv = GridSearchCV(\n",
    "    RPC(),\n",
    "    param_grid={\"n_estimators\":[50,100,200], \"max_depth\":[2,5,10]},\n",
    "    n_jobs = -1,\n",
    "    scoring=kt_score,\n",
    "    cv=5\n",
    ")\n",
    "rpc_gcv.fit(X_rank_etoh_train, y_rank_etoh_train)"
   ]
  },
  {
   "cell_type": "code",
   "execution_count": 23,
   "metadata": {},
   "outputs": [
    {
     "name": "stdout",
     "output_type": "stream",
     "text": [
      "[[ 3.]\n",
      " [10.]\n",
      " [ 3.]]\n",
      "\n",
      "[[ 4.  3.]\n",
      " [ 5. 10.]\n",
      " [ 1.  3.]]\n",
      "\n",
      "[[ 4.  3.  7.]\n",
      " [ 5. 10.  9.]\n",
      " [ 1. 10.  3.]]\n",
      "\n",
      "[[ 4.  9.  3.  7.]\n",
      " [ 5.  2. 10.  9.]\n",
      " [ 1. 10.  8.  3.]]\n",
      "\n",
      "[[ 4.  9.  3.  7.  2.]\n",
      " [ 3.  5.  2. 10.  9.]\n",
      " [ 1.  4. 10.  8.  3.]]\n",
      "\n"
     ]
    }
   ],
   "source": [
    "y_rank_etoh_test = np.zeros((3, len(ligands)))\n",
    "X_rank_etoh_test = np.zeros((3, 26))\n",
    "\n",
    "for i, row in etoh_raw_validation_df.iterrows():\n",
    "    y_rank_etoh_test[external_list.index(row[\"Electrophile\"]), ligands.index(row[\"Ligand\"])] = row[\"Yield\"]\n",
    "    X_rank_etoh_test[external_list.index(row[\"Electrophile\"])] = row.iloc[:26]\n",
    "y_rank_etoh_test = y_rank_etoh_test.shape[1] - rankdata(y_rank_etoh_test, axis=1) + 1\n",
    "etoh_rpc_predicted_rank_array = rpc_gcv.predict(X_rank_etoh_test)\n",
    "# print(y_rank_pred)\n",
    "\n",
    "### Predicted ranks\n",
    "for i in range(1,6):\n",
    "    print(actual_rank_array[np.where(etoh_rpc_predicted_rank_array <= i)].reshape((3,i)))\n",
    "    print()"
   ]
  },
  {
   "cell_type": "markdown",
   "metadata": {},
   "source": [
    "## LRRF"
   ]
  },
  {
   "cell_type": "code",
   "execution_count": 24,
   "metadata": {},
   "outputs": [
    {
     "data": {
      "text/html": [
       "<style>#sk-container-id-4 {color: black;background-color: white;}#sk-container-id-4 pre{padding: 0;}#sk-container-id-4 div.sk-toggleable {background-color: white;}#sk-container-id-4 label.sk-toggleable__label {cursor: pointer;display: block;width: 100%;margin-bottom: 0;padding: 0.3em;box-sizing: border-box;text-align: center;}#sk-container-id-4 label.sk-toggleable__label-arrow:before {content: \"▸\";float: left;margin-right: 0.25em;color: #696969;}#sk-container-id-4 label.sk-toggleable__label-arrow:hover:before {color: black;}#sk-container-id-4 div.sk-estimator:hover label.sk-toggleable__label-arrow:before {color: black;}#sk-container-id-4 div.sk-toggleable__content {max-height: 0;max-width: 0;overflow: hidden;text-align: left;background-color: #f0f8ff;}#sk-container-id-4 div.sk-toggleable__content pre {margin: 0.2em;color: black;border-radius: 0.25em;background-color: #f0f8ff;}#sk-container-id-4 input.sk-toggleable__control:checked~div.sk-toggleable__content {max-height: 200px;max-width: 100%;overflow: auto;}#sk-container-id-4 input.sk-toggleable__control:checked~label.sk-toggleable__label-arrow:before {content: \"▾\";}#sk-container-id-4 div.sk-estimator input.sk-toggleable__control:checked~label.sk-toggleable__label {background-color: #d4ebff;}#sk-container-id-4 div.sk-label input.sk-toggleable__control:checked~label.sk-toggleable__label {background-color: #d4ebff;}#sk-container-id-4 input.sk-hidden--visually {border: 0;clip: rect(1px 1px 1px 1px);clip: rect(1px, 1px, 1px, 1px);height: 1px;margin: -1px;overflow: hidden;padding: 0;position: absolute;width: 1px;}#sk-container-id-4 div.sk-estimator {font-family: monospace;background-color: #f0f8ff;border: 1px dotted black;border-radius: 0.25em;box-sizing: border-box;margin-bottom: 0.5em;}#sk-container-id-4 div.sk-estimator:hover {background-color: #d4ebff;}#sk-container-id-4 div.sk-parallel-item::after {content: \"\";width: 100%;border-bottom: 1px solid gray;flex-grow: 1;}#sk-container-id-4 div.sk-label:hover label.sk-toggleable__label {background-color: #d4ebff;}#sk-container-id-4 div.sk-serial::before {content: \"\";position: absolute;border-left: 1px solid gray;box-sizing: border-box;top: 0;bottom: 0;left: 50%;z-index: 0;}#sk-container-id-4 div.sk-serial {display: flex;flex-direction: column;align-items: center;background-color: white;padding-right: 0.2em;padding-left: 0.2em;position: relative;}#sk-container-id-4 div.sk-item {position: relative;z-index: 1;}#sk-container-id-4 div.sk-parallel {display: flex;align-items: stretch;justify-content: center;background-color: white;position: relative;}#sk-container-id-4 div.sk-item::before, #sk-container-id-4 div.sk-parallel-item::before {content: \"\";position: absolute;border-left: 1px solid gray;box-sizing: border-box;top: 0;bottom: 0;left: 50%;z-index: -1;}#sk-container-id-4 div.sk-parallel-item {display: flex;flex-direction: column;z-index: 1;position: relative;background-color: white;}#sk-container-id-4 div.sk-parallel-item:first-child::after {align-self: flex-end;width: 50%;}#sk-container-id-4 div.sk-parallel-item:last-child::after {align-self: flex-start;width: 50%;}#sk-container-id-4 div.sk-parallel-item:only-child::after {width: 0;}#sk-container-id-4 div.sk-dashed-wrapped {border: 1px dashed gray;margin: 0 0.4em 0.5em 0.4em;box-sizing: border-box;padding-bottom: 0.4em;background-color: white;}#sk-container-id-4 div.sk-label label {font-family: monospace;font-weight: bold;display: inline-block;line-height: 1.2em;}#sk-container-id-4 div.sk-label-container {text-align: center;}#sk-container-id-4 div.sk-container {/* jupyter's `normalize.less` sets `[hidden] { display: none; }` but bootstrap.min.css set `[hidden] { display: none !important; }` so we also need the `!important` here to be able to override the default hidden behavior on the sphinx rendered scikit-learn.org. See: https://github.com/scikit-learn/scikit-learn/issues/21755 */display: inline-block !important;position: relative;}#sk-container-id-4 div.sk-text-repr-fallback {display: none;}</style><div id=\"sk-container-id-4\" class=\"sk-top-container\"><div class=\"sk-text-repr-fallback\"><pre>GridSearchCV(cv=5, estimator=LabelRankingRandomForest(), n_jobs=-1,\n",
       "             param_grid={&#x27;max_depth&#x27;: [2, 5, 10],\n",
       "                         &#x27;n_estimators&#x27;: [50, 100, 200]},\n",
       "             scoring=make_scorer(kendall_tau))</pre><b>In a Jupyter environment, please rerun this cell to show the HTML representation or trust the notebook. <br />On GitHub, the HTML representation is unable to render, please try loading this page with nbviewer.org.</b></div><div class=\"sk-container\" hidden><div class=\"sk-item sk-dashed-wrapped\"><div class=\"sk-label-container\"><div class=\"sk-label sk-toggleable\"><input class=\"sk-toggleable__control sk-hidden--visually\" id=\"sk-estimator-id-10\" type=\"checkbox\" ><label for=\"sk-estimator-id-10\" class=\"sk-toggleable__label sk-toggleable__label-arrow\">GridSearchCV</label><div class=\"sk-toggleable__content\"><pre>GridSearchCV(cv=5, estimator=LabelRankingRandomForest(), n_jobs=-1,\n",
       "             param_grid={&#x27;max_depth&#x27;: [2, 5, 10],\n",
       "                         &#x27;n_estimators&#x27;: [50, 100, 200]},\n",
       "             scoring=make_scorer(kendall_tau))</pre></div></div></div><div class=\"sk-parallel\"><div class=\"sk-parallel-item\"><div class=\"sk-item\"><div class=\"sk-label-container\"><div class=\"sk-label sk-toggleable\"><input class=\"sk-toggleable__control sk-hidden--visually\" id=\"sk-estimator-id-11\" type=\"checkbox\" ><label for=\"sk-estimator-id-11\" class=\"sk-toggleable__label sk-toggleable__label-arrow\">estimator: LabelRankingRandomForest</label><div class=\"sk-toggleable__content\"><pre>LabelRankingRandomForest()</pre></div></div></div><div class=\"sk-serial\"><div class=\"sk-item\"><div class=\"sk-estimator sk-toggleable\"><input class=\"sk-toggleable__control sk-hidden--visually\" id=\"sk-estimator-id-12\" type=\"checkbox\" ><label for=\"sk-estimator-id-12\" class=\"sk-toggleable__label sk-toggleable__label-arrow\">LabelRankingRandomForest</label><div class=\"sk-toggleable__content\"><pre>LabelRankingRandomForest()</pre></div></div></div></div></div></div></div></div></div></div>"
      ],
      "text/plain": [
       "GridSearchCV(cv=5, estimator=LabelRankingRandomForest(), n_jobs=-1,\n",
       "             param_grid={'max_depth': [2, 5, 10],\n",
       "                         'n_estimators': [50, 100, 200]},\n",
       "             scoring=make_scorer(kendall_tau))"
      ]
     },
     "execution_count": 24,
     "metadata": {},
     "output_type": "execute_result"
    }
   ],
   "source": [
    "lrrf_gcv = GridSearchCV(\n",
    "    LabelRankingRandomForest(),\n",
    "    param_grid={\"n_estimators\":[50,100,200], \"max_depth\":[2,5,10]},\n",
    "    n_jobs = -1,\n",
    "    scoring=kt_score,\n",
    "    cv=5\n",
    ")\n",
    "lrrf_gcv.fit(X_rank_etoh_train, y_rank_etoh_train)"
   ]
  },
  {
   "cell_type": "code",
   "execution_count": 25,
   "metadata": {},
   "outputs": [
    {
     "name": "stdout",
     "output_type": "stream",
     "text": [
      "[[ 2.]\n",
      " [10.]\n",
      " [ 1.]]\n",
      "\n",
      "[[ 3.  2.]\n",
      " [ 5. 10.]\n",
      " [ 1.  3.]]\n",
      "\n",
      "[[ 4.  3.  2.]\n",
      " [ 3.  5. 10.]\n",
      " [ 1. 10.  3.]]\n",
      "\n",
      "[[ 4.  3.  7.  2.]\n",
      " [ 3.  5.  2. 10.]\n",
      " [ 1. 10.  8.  3.]]\n",
      "\n",
      "[[ 4.  9.  3.  7.  2.]\n",
      " [ 3.  6.  5.  2. 10.]\n",
      " [ 1. 10.  8.  3. 11.]]\n",
      "\n"
     ]
    }
   ],
   "source": [
    "etoh_lrrf_predicted_rank_array = lrrf_gcv.predict(X_rank_etoh_test)\n",
    "\n",
    "for i in range(1,6):\n",
    "    print(actual_rank_array[np.where(etoh_lrrf_predicted_rank_array <= i)].reshape((3,i)))\n",
    "    print()"
   ]
  },
  {
   "cell_type": "markdown",
   "metadata": {},
   "source": [
    "# Plotting altogether"
   ]
  },
  {
   "cell_type": "code",
   "execution_count": 34,
   "metadata": {},
   "outputs": [
    {
     "data": {
      "text/plain": [
       "Text(0.5, 0.01, 'Number of Experiments Conducted')"
      ]
     },
     "execution_count": 34,
     "metadata": {},
     "output_type": "execute_result"
    },
    {
     "data": {
      "image/png": "[encoded data removed]",
      "text/plain": [
       "<Figure size 330x400 with 6 Axes>"
      ]
     },
     "metadata": {},
     "output_type": "display_data"
    }
   ],
   "source": [
    "# Goes in the SI\n",
    "from itertools import product\n",
    "pred_rank_arrays = [\n",
    "    [rfr_predicted_rank_array, lrrf_predicted_rank_array, rpc_predicted_rank_array],\n",
    "    [etoh_rfr_predicted_rank_array, etoh_lrrf_predicted_rank_array, etoh_rpc_predicted_rank_array]\n",
    "]\n",
    "models = [\"RFR\", \"LRRF\", \"RPC\"]\n",
    "dict_to_plot = {\n",
    "    \"Number of Experiments Conducted\":[],\n",
    "    \"Actual Rank of Best Experiment\":[],\n",
    "    \"Model\":[],\n",
    "    \"Compound\":[]\n",
    "}\n",
    "dicts_to_plot = [dict_to_plot, deepcopy(dict_to_plot)]\n",
    "\n",
    "for a in range(2) :\n",
    "    for pred_array, model in zip(pred_rank_arrays[a], models):\n",
    "        for i in range(5) :\n",
    "            dicts_to_plot[a][\"Actual Rank of Best Experiment\"].extend(\n",
    "                list(np.min(actual_rank_array[np.where(pred_array <= i+1)].reshape((3,i+1)), axis=1).flatten())\n",
    "            )\n",
    "            dicts_to_plot[a][\"Compound\"].extend([1,2,3])\n",
    "            dicts_to_plot[a][\"Model\"].extend([model, model, model])\n",
    "            dicts_to_plot[a][\"Number of Experiments Conducted\"].extend([i+1, i+1, i+1])\n",
    "dfs_to_plot = [pd.DataFrame(x) for x in dicts_to_plot]\n",
    "\n",
    "fig, ax = plt.subplots(ncols=2, nrows=3, figsize=(3.3, 4), sharex=True, tight_layout=True, layout=\"constrained\")\n",
    "for i, j in product(range(2), range(3)):\n",
    "    df = dfs_to_plot[i]\n",
    "    plot_df = df[df[\"Compound\"]==j+1]\n",
    "    if i == 0 and j == 0 :\n",
    "        legend = True\n",
    "    else :\n",
    "        legend = False\n",
    "    f = sns.lineplot(\n",
    "        plot_df, \n",
    "        x=\"Number of Experiments Conducted\", \n",
    "        y=\"Actual Rank of Best Experiment\", \n",
    "        hue=\"Model\",\n",
    "        style=\"Model\",\n",
    "        markers=True,\n",
    "        ax=ax[j, i],\n",
    "        legend=legend\n",
    "    )\n",
    "    if legend :\n",
    "        ax[j,i].legend(fontsize=6, prop={\"size\":6, \"family\":\"arial\"})\n",
    "    f.invert_yaxis()\n",
    "    ax[j, i].set_xlabel(\"\")\n",
    "    ax[j, i].set_xticks(np.arange(1,6))\n",
    "    if j!=1 or (j==1 and i==1):\n",
    "        ax[j, i].set_ylabel(\"\")\n",
    "    else : \n",
    "        ax[j, i].set_ylabel(\"Best Rank\", fontdict={\"fontfamily\":\"arial\", \"size\":8, \"weight\":\"bold\"})\n",
    "    if j == 0 :\n",
    "        if i == 0:\n",
    "            ax[j, i].set_yticks([3,1])\n",
    "            ax[j, i].set_yticklabels([3,1], fontdict={\"fontfamily\":\"arial\", \"size\":6})\n",
    "        elif i == 1 :\n",
    "            ax[j, i].set_yticks([1])\n",
    "            ax[j, i].set_yticklabels([1], fontdict={\"fontfamily\":\"arial\", \"size\":6})\n",
    "    elif j == 1 :\n",
    "        ax[j, i].set_yticks([1,4,7,10])\n",
    "        ax[j, i].set_yticklabels([1,4,7,10], fontdict={\"fontfamily\":\"arial\", \"size\":6})\n",
    "    elif j == 2 :\n",
    "        ax[j,i] .set_xticklabels(np.arange(1,6), fontdict={\"fontfamily\":\"arial\", \"size\":6})\n",
    "        if i == 1:\n",
    "            ax[j, i].set_yticks([1])\n",
    "            ax[j, i].set_yticklabels([1], fontdict={\"fontfamily\":\"arial\", \"size\":6})\n",
    "        else :\n",
    "            ax[j, i].set_yticks([1,2,3])\n",
    "            ax[j, i].set_yticklabels([1,2,3], fontdict={\"fontfamily\":\"arial\", \"size\":6})\n",
    "    \n",
    "\n",
    "fig.supxlabel(\"Number of Experiments Conducted\", size=8, weight=\"bold\", fontdict={\"fontfamily\":\"arial\"})"
   ]
  },
  {
   "cell_type": "code",
   "execution_count": 35,
   "metadata": {},
   "outputs": [
    {
     "data": {
      "image/png": "[encoded data removed]",
      "text/plain": [
       "<Figure size 330x150 with 2 Axes>"
      ]
     },
     "metadata": {},
     "output_type": "display_data"
    }
   ],
   "source": [
    "solvents = [\"MeOH\", \"EtOH\"]\n",
    "pal = [x for i, x in enumerate(sns.cubehelix_palette(4, rot=-.25, light=.7)[::-1]) if i in [0,2,3]]\n",
    "\n",
    "fig, ax = plt.subplots(ncols=2, figsize=(3.3, 1.5), tight_layout=True, layout=\"constrained\")\n",
    "for i in range(2):\n",
    "    df = dfs_to_plot[1]\n",
    "    plot_df = df[df[\"Compound\"]==i+1]\n",
    "    if i == 0 :\n",
    "        legend = True\n",
    "    else :\n",
    "        legend = False\n",
    "    f = sns.lineplot(\n",
    "        plot_df, \n",
    "        x=\"Number of Experiments Conducted\", \n",
    "        y=\"Actual Rank of Best Experiment\", \n",
    "        hue=\"Model\",\n",
    "        style=\"Model\",\n",
    "        markers=True,\n",
    "        ax=ax[i],\n",
    "        legend=legend,\n",
    "        palette=pal\n",
    "    )\n",
    "    f.invert_yaxis()\n",
    "    if legend :\n",
    "        ax[i].legend(fontsize=6, prop={\"size\":6, \"family\":\"arial\"}, loc=\"lower right\")\n",
    "    ax[i].set_xlabel(\"\")\n",
    "    ax[i].set_xticks(np.arange(1,6))\n",
    "    ax[i].set_xticklabels(np.arange(1,6), fontdict={\"fontfamily\":\"arial\", \"size\":6})\n",
    "    ax[i].set_yticks([1,4,7,10])\n",
    "    # ax[i].set_title(solvents[i], fontdict={\"fontfamily\":\"arial\", \"size\":6, \"fontweight\":\"bold\"})\n",
    "    if i==1:\n",
    "        ax[i].set_ylabel(\"\")\n",
    "        ax[i].set_yticklabels([\"\" for x in range(4)])\n",
    "    else : \n",
    "        ax[i].set_ylabel(\"Best Rank\", fontdict={\"fontfamily\":\"arial\", \"size\":6, \"weight\":\"bold\"})\n",
    "        ax[i].set_yticklabels([1,4,7,10], fontdict={\"fontfamily\":\"arial\", \"size\":6})\n",
    "\n",
    "fig.supxlabel(\"Number of Recommendations\", size=6, weight=\"bold\", fontdict={\"fontfamily\":\"arial\"})\n",
    "plt.savefig(f\"figures/Figure6B.svg\", dpi=300, format=\"svg\")"
   ]
  },
  {
   "cell_type": "code",
   "execution_count": null,
   "metadata": {},
   "outputs": [],
   "source": []
  }
 ],
 "metadata": {
  "kernelspec": {
   "display_name": "label",
   "language": "python",
   "name": "python3"
  },
  "language_info": {
   "codemirror_mode": {
    "name": "ipython",
    "version": 3
   },
   "file_extension": ".py",
   "mimetype": "text/x-python",
   "name": "python",
   "nbconvert_exporter": "python",
   "pygments_lexer": "ipython3",
   "version": "3.10.12"
  }
 },
 "nbformat": 4,
 "nbformat_minor": 2
}
